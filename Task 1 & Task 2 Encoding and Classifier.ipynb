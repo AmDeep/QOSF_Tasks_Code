{
 "cells": [
  {
   "cell_type": "code",
   "execution_count": 2,
   "id": "2595583d",
   "metadata": {
    "scrolled": true
   },
   "outputs": [
    {
     "name": "stdout",
     "output_type": "stream",
     "text": [
      "Collecting qiskit\n",
      "  Downloading qiskit-0.34.2.tar.gz (13 kB)\n",
      "  Preparing metadata (setup.py) ... \u001b[?25ldone\n",
      "\u001b[?25hCollecting qiskit-terra==0.19.2\n",
      "  Downloading qiskit_terra-0.19.2-cp36-cp36m-manylinux_2_12_x86_64.manylinux2010_x86_64.whl (6.4 MB)\n",
      "     |████████████████████████████████| 6.4 MB 28.0 MB/s            \n",
      "\u001b[?25hCollecting qiskit-aer==0.10.3\n",
      "  Downloading qiskit_aer-0.10.3-cp36-cp36m-manylinux_2_12_x86_64.manylinux2010_x86_64.whl (18.0 MB)\n",
      "     |████████████████████████████████| 18.0 MB 91.0 MB/s            \n",
      "\u001b[?25hCollecting qiskit-ibmq-provider==0.18.3\n",
      "  Downloading qiskit_ibmq_provider-0.18.3-py3-none-any.whl (238 kB)\n",
      "     |████████████████████████████████| 238 kB 80.5 MB/s            \n",
      "\u001b[?25hCollecting qiskit-ignis==0.7.0\n",
      "  Downloading qiskit_ignis-0.7.0-py3-none-any.whl (200 kB)\n",
      "     |████████████████████████████████| 200 kB 98.8 MB/s            \n",
      "\u001b[?25hRequirement already satisfied: scipy>=1.0 in /home/ec2-user/anaconda3/envs/python3/lib/python3.6/site-packages (from qiskit-aer==0.10.3->qiskit) (1.5.3)\n",
      "Requirement already satisfied: numpy>=1.16.3 in /home/ec2-user/anaconda3/envs/python3/lib/python3.6/site-packages (from qiskit-aer==0.10.3->qiskit) (1.19.5)\n",
      "Collecting websocket-client>=1.0.1\n",
      "  Downloading websocket_client-1.3.1-py3-none-any.whl (54 kB)\n",
      "     |████████████████████████████████| 54 kB 4.5 MB/s             \n",
      "\u001b[?25hCollecting requests-ntlm>=1.1.0\n",
      "  Downloading requests_ntlm-1.1.0-py2.py3-none-any.whl (5.7 kB)\n",
      "Requirement already satisfied: requests>=2.19 in /home/ec2-user/anaconda3/envs/python3/lib/python3.6/site-packages (from qiskit-ibmq-provider==0.18.3->qiskit) (2.26.0)\n",
      "Requirement already satisfied: urllib3>=1.21.1 in /home/ec2-user/anaconda3/envs/python3/lib/python3.6/site-packages (from qiskit-ibmq-provider==0.18.3->qiskit) (1.26.7)\n",
      "Requirement already satisfied: python-dateutil>=2.8.0 in /home/ec2-user/anaconda3/envs/python3/lib/python3.6/site-packages (from qiskit-ibmq-provider==0.18.3->qiskit) (2.8.1)\n",
      "Collecting retworkx>=0.8.0\n",
      "  Downloading retworkx-0.11.0-cp36-cp36m-manylinux_2_5_x86_64.manylinux1_x86_64.manylinux_2_12_x86_64.manylinux2010_x86_64.whl (1.6 MB)\n",
      "     |████████████████████████████████| 1.6 MB 105.6 MB/s            \n",
      "\u001b[?25hRequirement already satisfied: setuptools>=40.1.0 in /home/ec2-user/anaconda3/envs/python3/lib/python3.6/site-packages (from qiskit-ignis==0.7.0->qiskit) (49.6.0.post20210108)\n",
      "Requirement already satisfied: dataclasses>=0.8 in /home/ec2-user/anaconda3/envs/python3/lib/python3.6/site-packages (from qiskit-terra==0.19.2->qiskit) (0.8)\n",
      "Requirement already satisfied: sympy>=1.3 in /home/ec2-user/anaconda3/envs/python3/lib/python3.6/site-packages (from qiskit-terra==0.19.2->qiskit) (1.7.1)\n",
      "Requirement already satisfied: contextvars>=2.4 in /home/ec2-user/anaconda3/envs/python3/lib/python3.6/site-packages (from qiskit-terra==0.19.2->qiskit) (2.4)\n",
      "Collecting python-constraint>=1.4\n",
      "  Downloading python-constraint-1.4.0.tar.bz2 (18 kB)\n",
      "  Preparing metadata (setup.py) ... \u001b[?25ldone\n",
      "\u001b[?25hRequirement already satisfied: psutil>=5 in /home/ec2-user/anaconda3/envs/python3/lib/python3.6/site-packages (from qiskit-terra==0.19.2->qiskit) (5.8.0)\n",
      "Requirement already satisfied: dill>=0.3 in /home/ec2-user/anaconda3/envs/python3/lib/python3.6/site-packages (from qiskit-terra==0.19.2->qiskit) (0.3.4)\n",
      "Collecting stevedore>=3.0.0\n",
      "  Downloading stevedore-3.5.0-py3-none-any.whl (49 kB)\n",
      "     |████████████████████████████████| 49 kB 1.8 MB/s             \n",
      "\u001b[?25hCollecting symengine>=0.8\n",
      "  Downloading symengine-0.8.1-cp36-cp36m-manylinux2010_x86_64.whl (38.2 MB)\n",
      "     |████████████████████████████████| 38.2 MB 82.3 MB/s            \n",
      "\u001b[?25hCollecting tweedledum<2.0,>=1.1\n",
      "  Downloading tweedledum-1.1.1-cp36-cp36m-manylinux_2_12_x86_64.manylinux2010_x86_64.whl (943 kB)\n",
      "     |████████████████████████████████| 943 kB 73.6 MB/s            \n",
      "\u001b[?25hRequirement already satisfied: ply>=3.10 in /home/ec2-user/anaconda3/envs/python3/lib/python3.6/site-packages (from qiskit-terra==0.19.2->qiskit) (3.11)\n",
      "Requirement already satisfied: immutables>=0.9 in /home/ec2-user/anaconda3/envs/python3/lib/python3.6/site-packages (from contextvars>=2.4->qiskit-terra==0.19.2->qiskit) (0.15)\n",
      "Requirement already satisfied: six>=1.5 in /home/ec2-user/anaconda3/envs/python3/lib/python3.6/site-packages (from python-dateutil>=2.8.0->qiskit-ibmq-provider==0.18.3->qiskit) (1.15.0)\n",
      "Requirement already satisfied: charset-normalizer~=2.0.0 in /home/ec2-user/anaconda3/envs/python3/lib/python3.6/site-packages (from requests>=2.19->qiskit-ibmq-provider==0.18.3->qiskit) (2.0.9)\n",
      "Requirement already satisfied: idna<4,>=2.5 in /home/ec2-user/anaconda3/envs/python3/lib/python3.6/site-packages (from requests>=2.19->qiskit-ibmq-provider==0.18.3->qiskit) (3.1)\n",
      "Requirement already satisfied: certifi>=2017.4.17 in /home/ec2-user/anaconda3/envs/python3/lib/python3.6/site-packages (from requests>=2.19->qiskit-ibmq-provider==0.18.3->qiskit) (2021.5.30)\n",
      "Collecting ntlm-auth>=1.0.2\n",
      "  Downloading ntlm_auth-1.5.0-py2.py3-none-any.whl (29 kB)\n",
      "Requirement already satisfied: cryptography>=1.3 in /home/ec2-user/anaconda3/envs/python3/lib/python3.6/site-packages (from requests-ntlm>=1.1.0->qiskit-ibmq-provider==0.18.3->qiskit) (3.4.4)\n",
      "Requirement already satisfied: importlib-metadata>=1.7.0 in /home/ec2-user/anaconda3/envs/python3/lib/python3.6/site-packages (from stevedore>=3.0.0->qiskit-terra==0.19.2->qiskit) (3.7.0)\n",
      "Collecting pbr!=2.1.0,>=2.0.0\n",
      "  Downloading pbr-5.8.1-py2.py3-none-any.whl (113 kB)\n",
      "     |████████████████████████████████| 113 kB 101.7 MB/s            \n",
      "\u001b[?25hRequirement already satisfied: mpmath>=0.19 in /home/ec2-user/anaconda3/envs/python3/lib/python3.6/site-packages (from sympy>=1.3->qiskit-terra==0.19.2->qiskit) (1.2.1)\n",
      "Requirement already satisfied: cffi>=1.12 in /home/ec2-user/anaconda3/envs/python3/lib/python3.6/site-packages (from cryptography>=1.3->requests-ntlm>=1.1.0->qiskit-ibmq-provider==0.18.3->qiskit) (1.14.5)\n",
      "Requirement already satisfied: zipp>=0.5 in /home/ec2-user/anaconda3/envs/python3/lib/python3.6/site-packages (from importlib-metadata>=1.7.0->stevedore>=3.0.0->qiskit-terra==0.19.2->qiskit) (3.4.0)\n",
      "Requirement already satisfied: typing-extensions>=3.6.4 in /home/ec2-user/anaconda3/envs/python3/lib/python3.6/site-packages (from importlib-metadata>=1.7.0->stevedore>=3.0.0->qiskit-terra==0.19.2->qiskit) (4.0.1)\n",
      "Requirement already satisfied: pycparser in /home/ec2-user/anaconda3/envs/python3/lib/python3.6/site-packages (from cffi>=1.12->cryptography>=1.3->requests-ntlm>=1.1.0->qiskit-ibmq-provider==0.18.3->qiskit) (2.20)\n",
      "Building wheels for collected packages: qiskit, python-constraint\n",
      "  Building wheel for qiskit (setup.py) ... \u001b[?25ldone\n",
      "\u001b[?25h  Created wheel for qiskit: filename=qiskit-0.34.2-py3-none-any.whl size=11792 sha256=f2b7d89b61a062610877cf5bfda598ef0fdb9682283724bbccabe16b8da41100\n",
      "  Stored in directory: /home/ec2-user/.cache/pip/wheels/e8/bc/45/73b9d0bfaf3d8c2d94b48926062f84a42ca6fa1526b863425a\n",
      "  Building wheel for python-constraint (setup.py) ... \u001b[?25ldone\n",
      "\u001b[?25h  Created wheel for python-constraint: filename=python_constraint-1.4.0-py2.py3-none-any.whl size=24079 sha256=ce289445aed37c05b79fe421a4f6e40384828f3db6719663de71eb24cbdab843\n",
      "  Stored in directory: /home/ec2-user/.cache/pip/wheels/c2/e2/65/6222764e3e5b677acdb04b592abab7e15140a70baace656d81\n",
      "Successfully built qiskit python-constraint\n",
      "Installing collected packages: pbr, tweedledum, symengine, stevedore, retworkx, python-constraint, ntlm-auth, websocket-client, requests-ntlm, qiskit-terra, qiskit-ignis, qiskit-ibmq-provider, qiskit-aer, qiskit\n",
      "  Attempting uninstall: websocket-client\n",
      "    Found existing installation: websocket-client 0.59.0\n",
      "    Uninstalling websocket-client-0.59.0:\n",
      "      Successfully uninstalled websocket-client-0.59.0\n",
      "\u001b[31mERROR: pip's dependency resolver does not currently take into account all the packages that are installed. This behaviour is the source of the following dependency conflicts.\n",
      "docker-compose 1.29.2 requires websocket-client<1,>=0.32.0, but you have websocket-client 1.3.1 which is incompatible.\u001b[0m\n",
      "Successfully installed ntlm-auth-1.5.0 pbr-5.8.1 python-constraint-1.4.0 qiskit-0.34.2 qiskit-aer-0.10.3 qiskit-ibmq-provider-0.18.3 qiskit-ignis-0.7.0 qiskit-terra-0.19.2 requests-ntlm-1.1.0 retworkx-0.11.0 stevedore-3.5.0 symengine-0.8.1 tweedledum-1.1.1 websocket-client-1.3.1\n"
     ]
    }
   ],
   "source": [
    "!pip install qiskit"
   ]
  },
  {
   "cell_type": "code",
   "execution_count": 22,
   "id": "02ca3fa1",
   "metadata": {
    "scrolled": true
   },
   "outputs": [
    {
     "name": "stdout",
     "output_type": "stream",
     "text": [
      "Collecting qiskit-aqua\n",
      "  Downloading qiskit_aqua-0.9.5-py3-none-any.whl (2.1 MB)\n",
      "     |████████████████████████████████| 2.1 MB 36.2 MB/s            \n",
      "\u001b[?25hRequirement already satisfied: setuptools>=40.1.0 in /home/ec2-user/anaconda3/envs/python3/lib/python3.6/site-packages (from qiskit-aqua) (49.6.0.post20210108)\n",
      "Requirement already satisfied: dataclasses in /home/ec2-user/anaconda3/envs/python3/lib/python3.6/site-packages (from qiskit-aqua) (0.8)\n",
      "Collecting fastdtw<=0.3.4\n",
      "  Downloading fastdtw-0.3.4.tar.gz (133 kB)\n",
      "     |████████████████████████████████| 133 kB 86.7 MB/s            \n",
      "\u001b[?25h  Preparing metadata (setup.py) ... \u001b[?25ldone\n",
      "\u001b[?25hRequirement already satisfied: qiskit-terra>=0.18.0 in /home/ec2-user/anaconda3/envs/python3/lib/python3.6/site-packages (from qiskit-aqua) (0.19.2)\n",
      "Requirement already satisfied: psutil>=5 in /home/ec2-user/anaconda3/envs/python3/lib/python3.6/site-packages (from qiskit-aqua) (5.8.0)\n",
      "Requirement already satisfied: scikit-learn>=0.20.0 in /home/ec2-user/anaconda3/envs/python3/lib/python3.6/site-packages (from qiskit-aqua) (0.24.2)\n",
      "Requirement already satisfied: scipy>=1.4 in /home/ec2-user/anaconda3/envs/python3/lib/python3.6/site-packages (from qiskit-aqua) (1.5.3)\n",
      "Requirement already satisfied: sympy>=1.3 in /home/ec2-user/anaconda3/envs/python3/lib/python3.6/site-packages (from qiskit-aqua) (1.7.1)\n",
      "Requirement already satisfied: pandas in /home/ec2-user/anaconda3/envs/python3/lib/python3.6/site-packages (from qiskit-aqua) (1.1.5)\n",
      "Collecting yfinance>=0.1.62\n",
      "  Downloading yfinance-0.1.70-py2.py3-none-any.whl (26 kB)\n",
      "Requirement already satisfied: retworkx>=0.8.0 in /home/ec2-user/anaconda3/envs/python3/lib/python3.6/site-packages (from qiskit-aqua) (0.11.0)\n",
      "Collecting dlx<=1.0.4\n",
      "  Downloading dlx-1.0.4.tar.gz (5.5 kB)\n",
      "  Preparing metadata (setup.py) ... \u001b[?25ldone\n",
      "\u001b[?25hRequirement already satisfied: h5py<3.3.0 in /home/ec2-user/anaconda3/envs/python3/lib/python3.6/site-packages (from qiskit-aqua) (3.1.0)\n",
      "Collecting quandl\n",
      "  Downloading Quandl-3.7.0-py2.py3-none-any.whl (26 kB)\n",
      "Collecting docplex>=2.21.207\n",
      "  Downloading docplex-2.22.213.tar.gz (634 kB)\n",
      "     |████████████████████████████████| 634 kB 63.4 MB/s            \n",
      "\u001b[?25h  Preparing metadata (setup.py) ... \u001b[?25ldone\n",
      "\u001b[?25hRequirement already satisfied: qiskit-ignis>=0.6.0 in /home/ec2-user/anaconda3/envs/python3/lib/python3.6/site-packages (from qiskit-aqua) (0.7.0)\n",
      "Requirement already satisfied: numpy>=1.17 in /home/ec2-user/anaconda3/envs/python3/lib/python3.6/site-packages (from qiskit-aqua) (1.19.5)\n",
      "Requirement already satisfied: six in /home/ec2-user/anaconda3/envs/python3/lib/python3.6/site-packages (from docplex>=2.21.207->qiskit-aqua) (1.15.0)\n",
      "Requirement already satisfied: cached-property in /home/ec2-user/anaconda3/envs/python3/lib/python3.6/site-packages (from h5py<3.3.0->qiskit-aqua) (1.5.1)\n",
      "Requirement already satisfied: python-constraint>=1.4 in /home/ec2-user/anaconda3/envs/python3/lib/python3.6/site-packages (from qiskit-terra>=0.18.0->qiskit-aqua) (1.4.0)\n",
      "Requirement already satisfied: python-dateutil>=2.8.0 in /home/ec2-user/anaconda3/envs/python3/lib/python3.6/site-packages (from qiskit-terra>=0.18.0->qiskit-aqua) (2.8.1)\n",
      "Requirement already satisfied: symengine>=0.8 in /home/ec2-user/anaconda3/envs/python3/lib/python3.6/site-packages (from qiskit-terra>=0.18.0->qiskit-aqua) (0.8.1)\n",
      "Requirement already satisfied: contextvars>=2.4 in /home/ec2-user/anaconda3/envs/python3/lib/python3.6/site-packages (from qiskit-terra>=0.18.0->qiskit-aqua) (2.4)\n",
      "Requirement already satisfied: dill>=0.3 in /home/ec2-user/anaconda3/envs/python3/lib/python3.6/site-packages (from qiskit-terra>=0.18.0->qiskit-aqua) (0.3.4)\n",
      "Requirement already satisfied: ply>=3.10 in /home/ec2-user/anaconda3/envs/python3/lib/python3.6/site-packages (from qiskit-terra>=0.18.0->qiskit-aqua) (3.11)\n",
      "Requirement already satisfied: tweedledum<2.0,>=1.1 in /home/ec2-user/anaconda3/envs/python3/lib/python3.6/site-packages (from qiskit-terra>=0.18.0->qiskit-aqua) (1.1.1)\n",
      "Requirement already satisfied: stevedore>=3.0.0 in /home/ec2-user/anaconda3/envs/python3/lib/python3.6/site-packages (from qiskit-terra>=0.18.0->qiskit-aqua) (3.5.0)\n",
      "Requirement already satisfied: threadpoolctl>=2.0.0 in /home/ec2-user/anaconda3/envs/python3/lib/python3.6/site-packages (from scikit-learn>=0.20.0->qiskit-aqua) (2.1.0)\n",
      "Requirement already satisfied: joblib>=0.11 in /home/ec2-user/anaconda3/envs/python3/lib/python3.6/site-packages (from scikit-learn>=0.20.0->qiskit-aqua) (1.0.1)\n",
      "Requirement already satisfied: mpmath>=0.19 in /home/ec2-user/anaconda3/envs/python3/lib/python3.6/site-packages (from sympy>=1.3->qiskit-aqua) (1.2.1)\n",
      "Requirement already satisfied: requests>=2.26 in /home/ec2-user/anaconda3/envs/python3/lib/python3.6/site-packages (from yfinance>=0.1.62->qiskit-aqua) (2.26.0)\n",
      "Collecting multitasking>=0.0.7\n",
      "  Downloading multitasking-0.0.10.tar.gz (8.2 kB)\n",
      "  Preparing metadata (setup.py) ... \u001b[?25ldone\n",
      "\u001b[?25hRequirement already satisfied: lxml>=4.5.1 in /home/ec2-user/anaconda3/envs/python3/lib/python3.6/site-packages (from yfinance>=0.1.62->qiskit-aqua) (4.6.4)\n",
      "Requirement already satisfied: pytz>=2017.2 in /home/ec2-user/anaconda3/envs/python3/lib/python3.6/site-packages (from pandas->qiskit-aqua) (2021.1)\n",
      "Collecting inflection>=0.3.1\n",
      "  Downloading inflection-0.5.1-py2.py3-none-any.whl (9.5 kB)\n",
      "Requirement already satisfied: more-itertools in /home/ec2-user/anaconda3/envs/python3/lib/python3.6/site-packages (from quandl->qiskit-aqua) (8.7.0)\n",
      "Requirement already satisfied: immutables>=0.9 in /home/ec2-user/anaconda3/envs/python3/lib/python3.6/site-packages (from contextvars>=2.4->qiskit-terra>=0.18.0->qiskit-aqua) (0.15)\n",
      "Requirement already satisfied: urllib3<1.27,>=1.21.1 in /home/ec2-user/anaconda3/envs/python3/lib/python3.6/site-packages (from requests>=2.26->yfinance>=0.1.62->qiskit-aqua) (1.26.7)\n",
      "Requirement already satisfied: idna<4,>=2.5 in /home/ec2-user/anaconda3/envs/python3/lib/python3.6/site-packages (from requests>=2.26->yfinance>=0.1.62->qiskit-aqua) (3.1)\n",
      "Requirement already satisfied: certifi>=2017.4.17 in /home/ec2-user/anaconda3/envs/python3/lib/python3.6/site-packages (from requests>=2.26->yfinance>=0.1.62->qiskit-aqua) (2021.5.30)\n",
      "Requirement already satisfied: charset-normalizer~=2.0.0 in /home/ec2-user/anaconda3/envs/python3/lib/python3.6/site-packages (from requests>=2.26->yfinance>=0.1.62->qiskit-aqua) (2.0.9)\n",
      "Requirement already satisfied: pbr!=2.1.0,>=2.0.0 in /home/ec2-user/anaconda3/envs/python3/lib/python3.6/site-packages (from stevedore>=3.0.0->qiskit-terra>=0.18.0->qiskit-aqua) (5.8.1)\n",
      "Requirement already satisfied: importlib-metadata>=1.7.0 in /home/ec2-user/anaconda3/envs/python3/lib/python3.6/site-packages (from stevedore>=3.0.0->qiskit-terra>=0.18.0->qiskit-aqua) (3.7.0)\n",
      "Requirement already satisfied: typing-extensions>=3.6.4 in /home/ec2-user/anaconda3/envs/python3/lib/python3.6/site-packages (from importlib-metadata>=1.7.0->stevedore>=3.0.0->qiskit-terra>=0.18.0->qiskit-aqua) (4.0.1)\n",
      "Requirement already satisfied: zipp>=0.5 in /home/ec2-user/anaconda3/envs/python3/lib/python3.6/site-packages (from importlib-metadata>=1.7.0->stevedore>=3.0.0->qiskit-terra>=0.18.0->qiskit-aqua) (3.4.0)\n",
      "Building wheels for collected packages: dlx, docplex, fastdtw, multitasking\n",
      "  Building wheel for dlx (setup.py) ... \u001b[?25ldone\n",
      "\u001b[?25h  Created wheel for dlx: filename=dlx-1.0.4-py3-none-any.whl size=5709 sha256=915dbafc0b576f293ba349996184f04fc7a7f5c04e586a968feb04fbf3865e1e\n",
      "  Stored in directory: /home/ec2-user/.cache/pip/wheels/ad/a3/52/859d389366d76e9e371e5a2dabefde5da7678c0032f008ca0a\n",
      "  Building wheel for docplex (setup.py) ... \u001b[?25ldone\n",
      "\u001b[?25h  Created wheel for docplex: filename=docplex-2.22.213-py3-none-any.whl size=696852 sha256=e30569e86c23e7f0729038e4fa5946b53f29a94e043f931a7aecd8fd990847ca\n",
      "  Stored in directory: /home/ec2-user/.cache/pip/wheels/d6/67/a1/49d2d21d233b7643aa2311eb4394666aa4f6bd983c3a217e36\n",
      "  Building wheel for fastdtw (setup.py) ... \u001b[?25ldone\n",
      "\u001b[?25h  Created wheel for fastdtw: filename=fastdtw-0.3.4-cp36-cp36m-linux_x86_64.whl size=404764 sha256=0eee2f4793188b55c4bbdb1d414d302169616fbaa2331be9bdd741e98fa32477\n",
      "  Stored in directory: /home/ec2-user/.cache/pip/wheels/50/66/7a/7c98f31ea8ecc3a04a5b20ec6b48fbdf02c899034e95cc1ede\n",
      "  Building wheel for multitasking (setup.py) ... \u001b[?25ldone\n",
      "\u001b[?25h  Created wheel for multitasking: filename=multitasking-0.0.10-py3-none-any.whl size=8488 sha256=565866cd65f9a0b6c455efb65d8658d9a025870788979570ae92a554dd52035d\n",
      "  Stored in directory: /home/ec2-user/.cache/pip/wheels/15/e6/fa/f4bf8d84e804547b3c1b1d4b09a671768502b32ca33ec60651\n",
      "Successfully built dlx docplex fastdtw multitasking\n",
      "Installing collected packages: multitasking, inflection, yfinance, quandl, fastdtw, docplex, dlx, qiskit-aqua\n",
      "Successfully installed dlx-1.0.4 docplex-2.22.213 fastdtw-0.3.4 inflection-0.5.1 multitasking-0.0.10 qiskit-aqua-0.9.5 quandl-3.7.0 yfinance-0.1.70\n"
     ]
    }
   ],
   "source": [
    "!pip install qiskit-aqua"
   ]
  },
  {
   "cell_type": "code",
   "execution_count": 23,
   "id": "0df35cb2",
   "metadata": {
    "scrolled": true
   },
   "outputs": [
    {
     "name": "stdout",
     "output_type": "stream",
     "text": [
      "Requirement already satisfied: seaborn in /home/ec2-user/anaconda3/envs/python3/lib/python3.6/site-packages (0.11.2)\n",
      "Requirement already satisfied: scipy>=1.0 in /home/ec2-user/anaconda3/envs/python3/lib/python3.6/site-packages (from seaborn) (1.5.3)\n",
      "Requirement already satisfied: matplotlib>=2.2 in /home/ec2-user/anaconda3/envs/python3/lib/python3.6/site-packages (from seaborn) (3.3.4)\n",
      "Requirement already satisfied: pandas>=0.23 in /home/ec2-user/anaconda3/envs/python3/lib/python3.6/site-packages (from seaborn) (1.1.5)\n",
      "Requirement already satisfied: numpy>=1.15 in /home/ec2-user/anaconda3/envs/python3/lib/python3.6/site-packages (from seaborn) (1.19.5)\n",
      "Requirement already satisfied: cycler>=0.10 in /home/ec2-user/anaconda3/envs/python3/lib/python3.6/site-packages (from matplotlib>=2.2->seaborn) (0.10.0)\n",
      "Requirement already satisfied: python-dateutil>=2.1 in /home/ec2-user/anaconda3/envs/python3/lib/python3.6/site-packages (from matplotlib>=2.2->seaborn) (2.8.1)\n",
      "Requirement already satisfied: kiwisolver>=1.0.1 in /home/ec2-user/anaconda3/envs/python3/lib/python3.6/site-packages (from matplotlib>=2.2->seaborn) (1.3.1)\n",
      "Requirement already satisfied: pyparsing!=2.0.4,!=2.1.2,!=2.1.6,>=2.0.3 in /home/ec2-user/anaconda3/envs/python3/lib/python3.6/site-packages (from matplotlib>=2.2->seaborn) (2.4.7)\n",
      "Requirement already satisfied: pillow>=6.2.0 in /home/ec2-user/anaconda3/envs/python3/lib/python3.6/site-packages (from matplotlib>=2.2->seaborn) (8.4.0)\n",
      "Requirement already satisfied: pytz>=2017.2 in /home/ec2-user/anaconda3/envs/python3/lib/python3.6/site-packages (from pandas>=0.23->seaborn) (2021.1)\n",
      "Requirement already satisfied: six in /home/ec2-user/anaconda3/envs/python3/lib/python3.6/site-packages (from cycler>=0.10->matplotlib>=2.2->seaborn) (1.15.0)\n",
      "Requirement already satisfied: scikit-learn in /home/ec2-user/anaconda3/envs/python3/lib/python3.6/site-packages (0.24.2)\n",
      "Requirement already satisfied: joblib>=0.11 in /home/ec2-user/anaconda3/envs/python3/lib/python3.6/site-packages (from scikit-learn) (1.0.1)\n",
      "Requirement already satisfied: scipy>=0.19.1 in /home/ec2-user/anaconda3/envs/python3/lib/python3.6/site-packages (from scikit-learn) (1.5.3)\n",
      "Requirement already satisfied: threadpoolctl>=2.0.0 in /home/ec2-user/anaconda3/envs/python3/lib/python3.6/site-packages (from scikit-learn) (2.1.0)\n",
      "Requirement already satisfied: numpy>=1.13.3 in /home/ec2-user/anaconda3/envs/python3/lib/python3.6/site-packages (from scikit-learn) (1.19.5)\n",
      "Requirement already satisfied: matplotlib in /home/ec2-user/anaconda3/envs/python3/lib/python3.6/site-packages (3.3.4)\n",
      "Requirement already satisfied: cycler>=0.10 in /home/ec2-user/anaconda3/envs/python3/lib/python3.6/site-packages (from matplotlib) (0.10.0)\n",
      "Requirement already satisfied: python-dateutil>=2.1 in /home/ec2-user/anaconda3/envs/python3/lib/python3.6/site-packages (from matplotlib) (2.8.1)\n",
      "Requirement already satisfied: pillow>=6.2.0 in /home/ec2-user/anaconda3/envs/python3/lib/python3.6/site-packages (from matplotlib) (8.4.0)\n",
      "Requirement already satisfied: numpy>=1.15 in /home/ec2-user/anaconda3/envs/python3/lib/python3.6/site-packages (from matplotlib) (1.19.5)\n",
      "Requirement already satisfied: pyparsing!=2.0.4,!=2.1.2,!=2.1.6,>=2.0.3 in /home/ec2-user/anaconda3/envs/python3/lib/python3.6/site-packages (from matplotlib) (2.4.7)\n",
      "Requirement already satisfied: kiwisolver>=1.0.1 in /home/ec2-user/anaconda3/envs/python3/lib/python3.6/site-packages (from matplotlib) (1.3.1)\n",
      "Requirement already satisfied: six in /home/ec2-user/anaconda3/envs/python3/lib/python3.6/site-packages (from cycler>=0.10->matplotlib) (1.15.0)\n",
      "Requirement already satisfied: pandas in /home/ec2-user/anaconda3/envs/python3/lib/python3.6/site-packages (1.1.5)\n",
      "Requirement already satisfied: python-dateutil>=2.7.3 in /home/ec2-user/anaconda3/envs/python3/lib/python3.6/site-packages (from pandas) (2.8.1)\n",
      "Requirement already satisfied: pytz>=2017.2 in /home/ec2-user/anaconda3/envs/python3/lib/python3.6/site-packages (from pandas) (2021.1)\n",
      "Requirement already satisfied: numpy>=1.15.4 in /home/ec2-user/anaconda3/envs/python3/lib/python3.6/site-packages (from pandas) (1.19.5)\n",
      "Requirement already satisfied: six>=1.5 in /home/ec2-user/anaconda3/envs/python3/lib/python3.6/site-packages (from python-dateutil>=2.7.3->pandas) (1.15.0)\n",
      "Requirement already satisfied: qiskit in /home/ec2-user/anaconda3/envs/python3/lib/python3.6/site-packages (0.34.2)\n",
      "Requirement already satisfied: qiskit-ignis==0.7.0 in /home/ec2-user/anaconda3/envs/python3/lib/python3.6/site-packages (from qiskit) (0.7.0)\n",
      "Requirement already satisfied: qiskit-aer==0.10.3 in /home/ec2-user/anaconda3/envs/python3/lib/python3.6/site-packages (from qiskit) (0.10.3)\n",
      "Requirement already satisfied: qiskit-terra==0.19.2 in /home/ec2-user/anaconda3/envs/python3/lib/python3.6/site-packages (from qiskit) (0.19.2)\n",
      "Requirement already satisfied: qiskit-ibmq-provider==0.18.3 in /home/ec2-user/anaconda3/envs/python3/lib/python3.6/site-packages (from qiskit) (0.18.3)\n",
      "Requirement already satisfied: scipy>=1.0 in /home/ec2-user/anaconda3/envs/python3/lib/python3.6/site-packages (from qiskit-aer==0.10.3->qiskit) (1.5.3)\n",
      "Requirement already satisfied: numpy>=1.16.3 in /home/ec2-user/anaconda3/envs/python3/lib/python3.6/site-packages (from qiskit-aer==0.10.3->qiskit) (1.19.5)\n",
      "Requirement already satisfied: requests-ntlm>=1.1.0 in /home/ec2-user/anaconda3/envs/python3/lib/python3.6/site-packages (from qiskit-ibmq-provider==0.18.3->qiskit) (1.1.0)\n",
      "Requirement already satisfied: requests>=2.19 in /home/ec2-user/anaconda3/envs/python3/lib/python3.6/site-packages (from qiskit-ibmq-provider==0.18.3->qiskit) (2.26.0)\n",
      "Requirement already satisfied: websocket-client>=1.0.1 in /home/ec2-user/anaconda3/envs/python3/lib/python3.6/site-packages (from qiskit-ibmq-provider==0.18.3->qiskit) (1.3.1)\n",
      "Requirement already satisfied: python-dateutil>=2.8.0 in /home/ec2-user/anaconda3/envs/python3/lib/python3.6/site-packages (from qiskit-ibmq-provider==0.18.3->qiskit) (2.8.1)\n",
      "Requirement already satisfied: urllib3>=1.21.1 in /home/ec2-user/anaconda3/envs/python3/lib/python3.6/site-packages (from qiskit-ibmq-provider==0.18.3->qiskit) (1.26.7)\n",
      "Requirement already satisfied: retworkx>=0.8.0 in /home/ec2-user/anaconda3/envs/python3/lib/python3.6/site-packages (from qiskit-ignis==0.7.0->qiskit) (0.11.0)\n",
      "Requirement already satisfied: setuptools>=40.1.0 in /home/ec2-user/anaconda3/envs/python3/lib/python3.6/site-packages (from qiskit-ignis==0.7.0->qiskit) (49.6.0.post20210108)\n",
      "Requirement already satisfied: stevedore>=3.0.0 in /home/ec2-user/anaconda3/envs/python3/lib/python3.6/site-packages (from qiskit-terra==0.19.2->qiskit) (3.5.0)\n",
      "Requirement already satisfied: tweedledum<2.0,>=1.1 in /home/ec2-user/anaconda3/envs/python3/lib/python3.6/site-packages (from qiskit-terra==0.19.2->qiskit) (1.1.1)\n",
      "Requirement already satisfied: contextvars>=2.4 in /home/ec2-user/anaconda3/envs/python3/lib/python3.6/site-packages (from qiskit-terra==0.19.2->qiskit) (2.4)\n",
      "Requirement already satisfied: ply>=3.10 in /home/ec2-user/anaconda3/envs/python3/lib/python3.6/site-packages (from qiskit-terra==0.19.2->qiskit) (3.11)\n",
      "Requirement already satisfied: psutil>=5 in /home/ec2-user/anaconda3/envs/python3/lib/python3.6/site-packages (from qiskit-terra==0.19.2->qiskit) (5.8.0)\n",
      "Requirement already satisfied: dataclasses>=0.8 in /home/ec2-user/anaconda3/envs/python3/lib/python3.6/site-packages (from qiskit-terra==0.19.2->qiskit) (0.8)\n",
      "Requirement already satisfied: python-constraint>=1.4 in /home/ec2-user/anaconda3/envs/python3/lib/python3.6/site-packages (from qiskit-terra==0.19.2->qiskit) (1.4.0)\n",
      "Requirement already satisfied: sympy>=1.3 in /home/ec2-user/anaconda3/envs/python3/lib/python3.6/site-packages (from qiskit-terra==0.19.2->qiskit) (1.7.1)\n",
      "Requirement already satisfied: dill>=0.3 in /home/ec2-user/anaconda3/envs/python3/lib/python3.6/site-packages (from qiskit-terra==0.19.2->qiskit) (0.3.4)\n",
      "Requirement already satisfied: symengine>=0.8 in /home/ec2-user/anaconda3/envs/python3/lib/python3.6/site-packages (from qiskit-terra==0.19.2->qiskit) (0.8.1)\n",
      "Requirement already satisfied: immutables>=0.9 in /home/ec2-user/anaconda3/envs/python3/lib/python3.6/site-packages (from contextvars>=2.4->qiskit-terra==0.19.2->qiskit) (0.15)\n",
      "Requirement already satisfied: six>=1.5 in /home/ec2-user/anaconda3/envs/python3/lib/python3.6/site-packages (from python-dateutil>=2.8.0->qiskit-ibmq-provider==0.18.3->qiskit) (1.15.0)\n",
      "Requirement already satisfied: idna<4,>=2.5 in /home/ec2-user/anaconda3/envs/python3/lib/python3.6/site-packages (from requests>=2.19->qiskit-ibmq-provider==0.18.3->qiskit) (3.1)\n",
      "Requirement already satisfied: charset-normalizer~=2.0.0 in /home/ec2-user/anaconda3/envs/python3/lib/python3.6/site-packages (from requests>=2.19->qiskit-ibmq-provider==0.18.3->qiskit) (2.0.9)\n",
      "Requirement already satisfied: certifi>=2017.4.17 in /home/ec2-user/anaconda3/envs/python3/lib/python3.6/site-packages (from requests>=2.19->qiskit-ibmq-provider==0.18.3->qiskit) (2021.5.30)\n",
      "Requirement already satisfied: ntlm-auth>=1.0.2 in /home/ec2-user/anaconda3/envs/python3/lib/python3.6/site-packages (from requests-ntlm>=1.1.0->qiskit-ibmq-provider==0.18.3->qiskit) (1.5.0)\n",
      "Requirement already satisfied: cryptography>=1.3 in /home/ec2-user/anaconda3/envs/python3/lib/python3.6/site-packages (from requests-ntlm>=1.1.0->qiskit-ibmq-provider==0.18.3->qiskit) (3.4.4)\n",
      "Requirement already satisfied: importlib-metadata>=1.7.0 in /home/ec2-user/anaconda3/envs/python3/lib/python3.6/site-packages (from stevedore>=3.0.0->qiskit-terra==0.19.2->qiskit) (3.7.0)\n",
      "Requirement already satisfied: pbr!=2.1.0,>=2.0.0 in /home/ec2-user/anaconda3/envs/python3/lib/python3.6/site-packages (from stevedore>=3.0.0->qiskit-terra==0.19.2->qiskit) (5.8.1)\n",
      "Requirement already satisfied: mpmath>=0.19 in /home/ec2-user/anaconda3/envs/python3/lib/python3.6/site-packages (from sympy>=1.3->qiskit-terra==0.19.2->qiskit) (1.2.1)\n",
      "Requirement already satisfied: cffi>=1.12 in /home/ec2-user/anaconda3/envs/python3/lib/python3.6/site-packages (from cryptography>=1.3->requests-ntlm>=1.1.0->qiskit-ibmq-provider==0.18.3->qiskit) (1.14.5)\n",
      "Requirement already satisfied: typing-extensions>=3.6.4 in /home/ec2-user/anaconda3/envs/python3/lib/python3.6/site-packages (from importlib-metadata>=1.7.0->stevedore>=3.0.0->qiskit-terra==0.19.2->qiskit) (4.0.1)\n",
      "Requirement already satisfied: zipp>=0.5 in /home/ec2-user/anaconda3/envs/python3/lib/python3.6/site-packages (from importlib-metadata>=1.7.0->stevedore>=3.0.0->qiskit-terra==0.19.2->qiskit) (3.4.0)\n",
      "Requirement already satisfied: pycparser in /home/ec2-user/anaconda3/envs/python3/lib/python3.6/site-packages (from cffi>=1.12->cryptography>=1.3->requests-ntlm>=1.1.0->qiskit-ibmq-provider==0.18.3->qiskit) (2.20)\n"
     ]
    }
   ],
   "source": [
    "!pip install --upgrade seaborn\n",
    "!pip install --upgrade scikit-learn\n",
    "!pip install --upgrade matplotlib\n",
    "!pip install --upgrade pandas\n",
    "!pip install --upgrade qiskit\n",
    "import numpy as np\n",
    "%matplotlib inline\n",
    "import matplotlib.pyplot as plt\n",
    "import seaborn as sns\n",
    "import pandas as pd\n",
    "from sklearn.decomposition import TruncatedSVD\n",
    "from sklearn.manifold import TSNE\n",
    "from qiskit import *\n",
    "import numpy as np\n",
    "from qiskit.aqua.utils import split_dataset_to_data_and_labels, map_label_to_class_name\n",
    "from qiskit.aqua import QuantumInstance\n",
    "from qiskit.aqua.algorithms import VQC\n",
    "import time"
   ]
  },
  {
   "cell_type": "code",
   "execution_count": 27,
   "id": "e8923af6",
   "metadata": {},
   "outputs": [],
   "source": [
    "train_data = pd.read_csv(\"mock_train_set.csv\", delimiter=\",\")\n",
    "test_data = pd.read_csv(\"mock_test_set.csv\", delimiter=\",\")"
   ]
  },
  {
   "cell_type": "code",
   "execution_count": 28,
   "id": "d48bdf74",
   "metadata": {},
   "outputs": [
    {
     "data": {
      "text/html": [
       "<div>\n",
       "<style scoped>\n",
       "    .dataframe tbody tr th:only-of-type {\n",
       "        vertical-align: middle;\n",
       "    }\n",
       "\n",
       "    .dataframe tbody tr th {\n",
       "        vertical-align: top;\n",
       "    }\n",
       "\n",
       "    .dataframe thead th {\n",
       "        text-align: right;\n",
       "    }\n",
       "</style>\n",
       "<table border=\"1\" class=\"dataframe\">\n",
       "  <thead>\n",
       "    <tr style=\"text-align: right;\">\n",
       "      <th></th>\n",
       "      <th>0</th>\n",
       "      <th>1</th>\n",
       "      <th>2</th>\n",
       "      <th>3</th>\n",
       "      <th>4</th>\n",
       "    </tr>\n",
       "  </thead>\n",
       "  <tbody>\n",
       "    <tr>\n",
       "      <th>0</th>\n",
       "      <td>2789.26</td>\n",
       "      <td>1000.0</td>\n",
       "      <td>10.0</td>\n",
       "      <td>20.0</td>\n",
       "      <td>0.0</td>\n",
       "    </tr>\n",
       "    <tr>\n",
       "      <th>1</th>\n",
       "      <td>4040.01</td>\n",
       "      <td>1000000.0</td>\n",
       "      <td>1.0</td>\n",
       "      <td>1.0</td>\n",
       "      <td>1.0</td>\n",
       "    </tr>\n",
       "    <tr>\n",
       "      <th>2</th>\n",
       "      <td>2931.20</td>\n",
       "      <td>10000.0</td>\n",
       "      <td>10000.0</td>\n",
       "      <td>40.0</td>\n",
       "      <td>1.0</td>\n",
       "    </tr>\n",
       "    <tr>\n",
       "      <th>3</th>\n",
       "      <td>3896.54</td>\n",
       "      <td>10000.0</td>\n",
       "      <td>100000.0</td>\n",
       "      <td>30.0</td>\n",
       "      <td>1.0</td>\n",
       "    </tr>\n",
       "    <tr>\n",
       "      <th>4</th>\n",
       "      <td>982.06</td>\n",
       "      <td>100.0</td>\n",
       "      <td>1000.0</td>\n",
       "      <td>75.0</td>\n",
       "      <td>0.0</td>\n",
       "    </tr>\n",
       "    <tr>\n",
       "      <th>...</th>\n",
       "      <td>...</td>\n",
       "      <td>...</td>\n",
       "      <td>...</td>\n",
       "      <td>...</td>\n",
       "      <td>...</td>\n",
       "    </tr>\n",
       "    <tr>\n",
       "      <th>295</th>\n",
       "      <td>1464.52</td>\n",
       "      <td>1000000.0</td>\n",
       "      <td>10000.0</td>\n",
       "      <td>45.0</td>\n",
       "      <td>1.0</td>\n",
       "    </tr>\n",
       "    <tr>\n",
       "      <th>296</th>\n",
       "      <td>3493.66</td>\n",
       "      <td>1000000.0</td>\n",
       "      <td>100000.0</td>\n",
       "      <td>85.0</td>\n",
       "      <td>1.0</td>\n",
       "    </tr>\n",
       "    <tr>\n",
       "      <th>297</th>\n",
       "      <td>4182.81</td>\n",
       "      <td>1.0</td>\n",
       "      <td>1.0</td>\n",
       "      <td>65.0</td>\n",
       "      <td>0.0</td>\n",
       "    </tr>\n",
       "    <tr>\n",
       "      <th>298</th>\n",
       "      <td>3113.75</td>\n",
       "      <td>10000.0</td>\n",
       "      <td>100.0</td>\n",
       "      <td>1.0</td>\n",
       "      <td>1.0</td>\n",
       "    </tr>\n",
       "    <tr>\n",
       "      <th>299</th>\n",
       "      <td>4567.57</td>\n",
       "      <td>10000.0</td>\n",
       "      <td>100000.0</td>\n",
       "      <td>90.0</td>\n",
       "      <td>1.0</td>\n",
       "    </tr>\n",
       "  </tbody>\n",
       "</table>\n",
       "<p>300 rows × 5 columns</p>\n",
       "</div>"
      ],
      "text/plain": [
       "           0          1         2     3    4\n",
       "0    2789.26     1000.0      10.0  20.0  0.0\n",
       "1    4040.01  1000000.0       1.0   1.0  1.0\n",
       "2    2931.20    10000.0   10000.0  40.0  1.0\n",
       "3    3896.54    10000.0  100000.0  30.0  1.0\n",
       "4     982.06      100.0    1000.0  75.0  0.0\n",
       "..       ...        ...       ...   ...  ...\n",
       "295  1464.52  1000000.0   10000.0  45.0  1.0\n",
       "296  3493.66  1000000.0  100000.0  85.0  1.0\n",
       "297  4182.81        1.0       1.0  65.0  0.0\n",
       "298  3113.75    10000.0     100.0   1.0  1.0\n",
       "299  4567.57    10000.0  100000.0  90.0  1.0\n",
       "\n",
       "[300 rows x 5 columns]"
      ]
     },
     "execution_count": 28,
     "metadata": {},
     "output_type": "execute_result"
    }
   ],
   "source": []
  },
  {
   "cell_type": "code",
   "execution_count": 30,
   "id": "aed3966a",
   "metadata": {},
   "outputs": [],
   "source": [
    "train_data_features = train_data[['0','1','2','3']]\n",
    "train_data_labels = train_data[['4']]"
   ]
  },
  {
   "cell_type": "code",
   "execution_count": 64,
   "id": "fe0a86ed",
   "metadata": {},
   "outputs": [
    {
     "name": "stdout",
     "output_type": "stream",
     "text": [
      "Collecting dc_qiskit_qml\n",
      "  Downloading dc_qiskit_qml-0.0.3-py3-none-any.whl (38 kB)\n",
      "Collecting bitstring\n",
      "  Downloading bitstring-3.1.9-py3-none-any.whl (38 kB)\n",
      "Requirement already satisfied: qiskit in /home/ec2-user/anaconda3/envs/python3/lib/python3.6/site-packages (from dc_qiskit_qml) (0.34.2)\n",
      "Requirement already satisfied: scipy in /home/ec2-user/anaconda3/envs/python3/lib/python3.6/site-packages (from dc_qiskit_qml) (1.5.3)\n",
      "Requirement already satisfied: numpy in /home/ec2-user/anaconda3/envs/python3/lib/python3.6/site-packages (from dc_qiskit_qml) (1.19.5)\n",
      "Requirement already satisfied: scikit-learn in /home/ec2-user/anaconda3/envs/python3/lib/python3.6/site-packages (from dc_qiskit_qml) (0.24.2)\n",
      "Collecting dc-qiskit-algorithms\n",
      "  Downloading dc_qiskit_algorithms-0.0.13-py3-none-any.whl (22 kB)\n",
      "Collecting pydot\n",
      "  Downloading pydot-1.4.2-py2.py3-none-any.whl (21 kB)\n",
      "Collecting nxpd\n",
      "  Downloading nxpd-0.2.0.tar.gz (26 kB)\n",
      "  Preparing metadata (setup.py) ... \u001b[?25ldone\n",
      "\u001b[?25hRequirement already satisfied: setuptools in /home/ec2-user/anaconda3/envs/python3/lib/python3.6/site-packages (from dc-qiskit-algorithms->dc_qiskit_qml) (49.6.0.post20210108)\n",
      "Requirement already satisfied: sympy in /home/ec2-user/anaconda3/envs/python3/lib/python3.6/site-packages (from dc-qiskit-algorithms->dc_qiskit_qml) (1.7.1)\n",
      "Collecting ddt\n",
      "  Downloading ddt-1.4.4-py2.py3-none-any.whl (6.3 kB)\n",
      "Requirement already satisfied: qiskit-ignis==0.7.0 in /home/ec2-user/anaconda3/envs/python3/lib/python3.6/site-packages (from qiskit->dc_qiskit_qml) (0.7.0)\n",
      "Requirement already satisfied: qiskit-ibmq-provider==0.18.3 in /home/ec2-user/anaconda3/envs/python3/lib/python3.6/site-packages (from qiskit->dc_qiskit_qml) (0.18.3)\n",
      "Requirement already satisfied: qiskit-terra==0.19.2 in /home/ec2-user/anaconda3/envs/python3/lib/python3.6/site-packages (from qiskit->dc_qiskit_qml) (0.19.2)\n",
      "Requirement already satisfied: qiskit-aer==0.10.3 in /home/ec2-user/anaconda3/envs/python3/lib/python3.6/site-packages (from qiskit->dc_qiskit_qml) (0.10.3)\n",
      "Requirement already satisfied: requests-ntlm>=1.1.0 in /home/ec2-user/anaconda3/envs/python3/lib/python3.6/site-packages (from qiskit-ibmq-provider==0.18.3->qiskit->dc_qiskit_qml) (1.1.0)\n",
      "Requirement already satisfied: requests>=2.19 in /home/ec2-user/anaconda3/envs/python3/lib/python3.6/site-packages (from qiskit-ibmq-provider==0.18.3->qiskit->dc_qiskit_qml) (2.26.0)\n",
      "Requirement already satisfied: websocket-client>=1.0.1 in /home/ec2-user/anaconda3/envs/python3/lib/python3.6/site-packages (from qiskit-ibmq-provider==0.18.3->qiskit->dc_qiskit_qml) (1.3.1)\n",
      "Requirement already satisfied: python-dateutil>=2.8.0 in /home/ec2-user/anaconda3/envs/python3/lib/python3.6/site-packages (from qiskit-ibmq-provider==0.18.3->qiskit->dc_qiskit_qml) (2.8.1)\n",
      "Requirement already satisfied: urllib3>=1.21.1 in /home/ec2-user/anaconda3/envs/python3/lib/python3.6/site-packages (from qiskit-ibmq-provider==0.18.3->qiskit->dc_qiskit_qml) (1.26.7)\n",
      "Requirement already satisfied: retworkx>=0.8.0 in /home/ec2-user/anaconda3/envs/python3/lib/python3.6/site-packages (from qiskit-ignis==0.7.0->qiskit->dc_qiskit_qml) (0.11.0)\n",
      "Requirement already satisfied: contextvars>=2.4 in /home/ec2-user/anaconda3/envs/python3/lib/python3.6/site-packages (from qiskit-terra==0.19.2->qiskit->dc_qiskit_qml) (2.4)\n",
      "Requirement already satisfied: tweedledum<2.0,>=1.1 in /home/ec2-user/anaconda3/envs/python3/lib/python3.6/site-packages (from qiskit-terra==0.19.2->qiskit->dc_qiskit_qml) (1.1.1)\n",
      "Requirement already satisfied: python-constraint>=1.4 in /home/ec2-user/anaconda3/envs/python3/lib/python3.6/site-packages (from qiskit-terra==0.19.2->qiskit->dc_qiskit_qml) (1.4.0)\n",
      "Requirement already satisfied: ply>=3.10 in /home/ec2-user/anaconda3/envs/python3/lib/python3.6/site-packages (from qiskit-terra==0.19.2->qiskit->dc_qiskit_qml) (3.11)\n",
      "Requirement already satisfied: psutil>=5 in /home/ec2-user/anaconda3/envs/python3/lib/python3.6/site-packages (from qiskit-terra==0.19.2->qiskit->dc_qiskit_qml) (5.8.0)\n",
      "Requirement already satisfied: dill>=0.3 in /home/ec2-user/anaconda3/envs/python3/lib/python3.6/site-packages (from qiskit-terra==0.19.2->qiskit->dc_qiskit_qml) (0.3.4)\n",
      "Requirement already satisfied: symengine>=0.8 in /home/ec2-user/anaconda3/envs/python3/lib/python3.6/site-packages (from qiskit-terra==0.19.2->qiskit->dc_qiskit_qml) (0.8.1)\n",
      "Requirement already satisfied: stevedore>=3.0.0 in /home/ec2-user/anaconda3/envs/python3/lib/python3.6/site-packages (from qiskit-terra==0.19.2->qiskit->dc_qiskit_qml) (3.5.0)\n",
      "Requirement already satisfied: dataclasses>=0.8 in /home/ec2-user/anaconda3/envs/python3/lib/python3.6/site-packages (from qiskit-terra==0.19.2->qiskit->dc_qiskit_qml) (0.8)\n",
      "Requirement already satisfied: joblib>=0.11 in /home/ec2-user/anaconda3/envs/python3/lib/python3.6/site-packages (from scikit-learn->dc_qiskit_qml) (1.0.1)\n",
      "Requirement already satisfied: threadpoolctl>=2.0.0 in /home/ec2-user/anaconda3/envs/python3/lib/python3.6/site-packages (from scikit-learn->dc_qiskit_qml) (2.1.0)\n",
      "Requirement already satisfied: mpmath>=0.19 in /home/ec2-user/anaconda3/envs/python3/lib/python3.6/site-packages (from sympy->dc-qiskit-algorithms->dc_qiskit_qml) (1.2.1)\n",
      "Requirement already satisfied: networkx>=1.6 in /home/ec2-user/anaconda3/envs/python3/lib/python3.6/site-packages (from nxpd->dc-qiskit-algorithms->dc_qiskit_qml) (2.5)\n",
      "Requirement already satisfied: pyparsing>=2.0.1 in /home/ec2-user/anaconda3/envs/python3/lib/python3.6/site-packages (from nxpd->dc-qiskit-algorithms->dc_qiskit_qml) (2.4.7)\n",
      "Requirement already satisfied: immutables>=0.9 in /home/ec2-user/anaconda3/envs/python3/lib/python3.6/site-packages (from contextvars>=2.4->qiskit-terra==0.19.2->qiskit->dc_qiskit_qml) (0.15)\n",
      "Requirement already satisfied: decorator>=4.3.0 in /home/ec2-user/anaconda3/envs/python3/lib/python3.6/site-packages (from networkx>=1.6->nxpd->dc-qiskit-algorithms->dc_qiskit_qml) (4.4.2)\n",
      "Requirement already satisfied: six>=1.5 in /home/ec2-user/anaconda3/envs/python3/lib/python3.6/site-packages (from python-dateutil>=2.8.0->qiskit-ibmq-provider==0.18.3->qiskit->dc_qiskit_qml) (1.15.0)\n",
      "Requirement already satisfied: idna<4,>=2.5 in /home/ec2-user/anaconda3/envs/python3/lib/python3.6/site-packages (from requests>=2.19->qiskit-ibmq-provider==0.18.3->qiskit->dc_qiskit_qml) (3.1)\n",
      "Requirement already satisfied: charset-normalizer~=2.0.0 in /home/ec2-user/anaconda3/envs/python3/lib/python3.6/site-packages (from requests>=2.19->qiskit-ibmq-provider==0.18.3->qiskit->dc_qiskit_qml) (2.0.9)\n",
      "Requirement already satisfied: certifi>=2017.4.17 in /home/ec2-user/anaconda3/envs/python3/lib/python3.6/site-packages (from requests>=2.19->qiskit-ibmq-provider==0.18.3->qiskit->dc_qiskit_qml) (2021.5.30)\n",
      "Requirement already satisfied: ntlm-auth>=1.0.2 in /home/ec2-user/anaconda3/envs/python3/lib/python3.6/site-packages (from requests-ntlm>=1.1.0->qiskit-ibmq-provider==0.18.3->qiskit->dc_qiskit_qml) (1.5.0)\n",
      "Requirement already satisfied: cryptography>=1.3 in /home/ec2-user/anaconda3/envs/python3/lib/python3.6/site-packages (from requests-ntlm>=1.1.0->qiskit-ibmq-provider==0.18.3->qiskit->dc_qiskit_qml) (3.4.4)\n",
      "Requirement already satisfied: importlib-metadata>=1.7.0 in /home/ec2-user/anaconda3/envs/python3/lib/python3.6/site-packages (from stevedore>=3.0.0->qiskit-terra==0.19.2->qiskit->dc_qiskit_qml) (3.7.0)\n",
      "Requirement already satisfied: pbr!=2.1.0,>=2.0.0 in /home/ec2-user/anaconda3/envs/python3/lib/python3.6/site-packages (from stevedore>=3.0.0->qiskit-terra==0.19.2->qiskit->dc_qiskit_qml) (5.8.1)\n",
      "Requirement already satisfied: cffi>=1.12 in /home/ec2-user/anaconda3/envs/python3/lib/python3.6/site-packages (from cryptography>=1.3->requests-ntlm>=1.1.0->qiskit-ibmq-provider==0.18.3->qiskit->dc_qiskit_qml) (1.14.5)\n",
      "Requirement already satisfied: typing-extensions>=3.6.4 in /home/ec2-user/anaconda3/envs/python3/lib/python3.6/site-packages (from importlib-metadata>=1.7.0->stevedore>=3.0.0->qiskit-terra==0.19.2->qiskit->dc_qiskit_qml) (4.0.1)\n",
      "Requirement already satisfied: zipp>=0.5 in /home/ec2-user/anaconda3/envs/python3/lib/python3.6/site-packages (from importlib-metadata>=1.7.0->stevedore>=3.0.0->qiskit-terra==0.19.2->qiskit->dc_qiskit_qml) (3.4.0)\n",
      "Requirement already satisfied: pycparser in /home/ec2-user/anaconda3/envs/python3/lib/python3.6/site-packages (from cffi>=1.12->cryptography>=1.3->requests-ntlm>=1.1.0->qiskit-ibmq-provider==0.18.3->qiskit->dc_qiskit_qml) (2.20)\n",
      "Building wheels for collected packages: nxpd\n",
      "  Building wheel for nxpd (setup.py) ... \u001b[?25ldone\n",
      "\u001b[?25h  Created wheel for nxpd: filename=nxpd-0.2.0-py3-none-any.whl size=28297 sha256=91ae9ef39287098df4a2b4f08a506d4fbed4c3c2d3c18d52f97bbbf1ce8fc388\n",
      "  Stored in directory: /home/ec2-user/.cache/pip/wheels/c5/38/df/bf8db05c1d94db7157112ea7535fbbae71143ef810a89530da\n",
      "Successfully built nxpd\n",
      "Installing collected packages: pydot, nxpd, ddt, bitstring, dc-qiskit-algorithms, dc-qiskit-qml\n",
      "Successfully installed bitstring-3.1.9 dc-qiskit-algorithms-0.0.13 dc-qiskit-qml-0.0.3 ddt-1.4.4 nxpd-0.2.0 pydot-1.4.2\n"
     ]
    }
   ],
   "source": [
    "!pip install dc_qiskit_qml\n"
   ]
  },
  {
   "cell_type": "code",
   "execution_count": 75,
   "id": "9d37655f",
   "metadata": {
    "scrolled": true
   },
   "outputs": [
    {
     "name": "stdout",
     "output_type": "stream",
     "text": [
      "Found existing installation: scikit-learn 0.24.2\n",
      "Uninstalling scikit-learn-0.24.2:\n",
      "  Successfully uninstalled scikit-learn-0.24.2\n",
      "Collecting scikit-learn==0.21.3\n",
      "  Downloading scikit_learn-0.21.3-cp36-cp36m-manylinux1_x86_64.whl (6.7 MB)\n",
      "     |████████████████████████████████| 6.7 MB 27.6 MB/s            \n",
      "\u001b[?25hRequirement already satisfied: numpy>=1.11.0 in /home/ec2-user/anaconda3/envs/python3/lib/python3.6/site-packages (from scikit-learn==0.21.3) (1.19.5)\n",
      "Requirement already satisfied: joblib>=0.11 in /home/ec2-user/anaconda3/envs/python3/lib/python3.6/site-packages (from scikit-learn==0.21.3) (1.0.1)\n",
      "Requirement already satisfied: scipy>=0.17.0 in /home/ec2-user/anaconda3/envs/python3/lib/python3.6/site-packages (from scikit-learn==0.21.3) (1.5.3)\n",
      "Installing collected packages: scikit-learn\n",
      "Successfully installed scikit-learn-0.21.3\n"
     ]
    }
   ],
   "source": [
    "!pip uninstall scikit-learn -y\n",
    "!pip install scikit-learn==0.21.3"
   ]
  },
  {
   "cell_type": "code",
   "execution_count": 76,
   "id": "0cca5b75",
   "metadata": {},
   "outputs": [],
   "source": [
    "from sklearn.neighbors import KNeighborsClassifier"
   ]
  },
  {
   "cell_type": "code",
   "execution_count": 80,
   "id": "7fae7bdb",
   "metadata": {
    "scrolled": true
   },
   "outputs": [
    {
     "name": "stdout",
     "output_type": "stream",
     "text": [
      "Collecting qiskit_machine_learning\n",
      "  Downloading qiskit_machine_learning-0.3.1-py3-none-any.whl (118 kB)\n",
      "     |████████████████████████████████| 118 kB 24.1 MB/s            \n",
      "\u001b[?25hRequirement already satisfied: fastdtw in /home/ec2-user/anaconda3/envs/python3/lib/python3.6/site-packages (from qiskit_machine_learning) (0.3.4)\n",
      "Requirement already satisfied: qiskit-terra>=0.19.1 in /home/ec2-user/anaconda3/envs/python3/lib/python3.6/site-packages (from qiskit_machine_learning) (0.19.2)\n",
      "Requirement already satisfied: scipy>=1.4 in /home/ec2-user/anaconda3/envs/python3/lib/python3.6/site-packages (from qiskit_machine_learning) (1.5.3)\n",
      "Requirement already satisfied: psutil>=5 in /home/ec2-user/anaconda3/envs/python3/lib/python3.6/site-packages (from qiskit_machine_learning) (5.8.0)\n",
      "Requirement already satisfied: dill>=0.3.4 in /home/ec2-user/anaconda3/envs/python3/lib/python3.6/site-packages (from qiskit_machine_learning) (0.3.4)\n",
      "Requirement already satisfied: numpy>=1.17 in /home/ec2-user/anaconda3/envs/python3/lib/python3.6/site-packages (from qiskit_machine_learning) (1.19.5)\n",
      "Requirement already satisfied: setuptools>=40.1.0 in /home/ec2-user/anaconda3/envs/python3/lib/python3.6/site-packages (from qiskit_machine_learning) (49.6.0.post20210108)\n",
      "Requirement already satisfied: scikit-learn>=0.20.0 in /home/ec2-user/anaconda3/envs/python3/lib/python3.6/site-packages (from qiskit_machine_learning) (0.21.3)\n",
      "Requirement already satisfied: dataclasses>=0.8 in /home/ec2-user/anaconda3/envs/python3/lib/python3.6/site-packages (from qiskit-terra>=0.19.1->qiskit_machine_learning) (0.8)\n",
      "Requirement already satisfied: stevedore>=3.0.0 in /home/ec2-user/anaconda3/envs/python3/lib/python3.6/site-packages (from qiskit-terra>=0.19.1->qiskit_machine_learning) (3.5.0)\n",
      "Requirement already satisfied: sympy>=1.3 in /home/ec2-user/anaconda3/envs/python3/lib/python3.6/site-packages (from qiskit-terra>=0.19.1->qiskit_machine_learning) (1.7.1)\n",
      "Requirement already satisfied: tweedledum<2.0,>=1.1 in /home/ec2-user/anaconda3/envs/python3/lib/python3.6/site-packages (from qiskit-terra>=0.19.1->qiskit_machine_learning) (1.1.1)\n",
      "Requirement already satisfied: ply>=3.10 in /home/ec2-user/anaconda3/envs/python3/lib/python3.6/site-packages (from qiskit-terra>=0.19.1->qiskit_machine_learning) (3.11)\n",
      "Requirement already satisfied: symengine>=0.8 in /home/ec2-user/anaconda3/envs/python3/lib/python3.6/site-packages (from qiskit-terra>=0.19.1->qiskit_machine_learning) (0.8.1)\n",
      "Requirement already satisfied: contextvars>=2.4 in /home/ec2-user/anaconda3/envs/python3/lib/python3.6/site-packages (from qiskit-terra>=0.19.1->qiskit_machine_learning) (2.4)\n",
      "Requirement already satisfied: retworkx>=0.10.1 in /home/ec2-user/anaconda3/envs/python3/lib/python3.6/site-packages (from qiskit-terra>=0.19.1->qiskit_machine_learning) (0.11.0)\n",
      "Requirement already satisfied: python-constraint>=1.4 in /home/ec2-user/anaconda3/envs/python3/lib/python3.6/site-packages (from qiskit-terra>=0.19.1->qiskit_machine_learning) (1.4.0)\n",
      "Requirement already satisfied: python-dateutil>=2.8.0 in /home/ec2-user/anaconda3/envs/python3/lib/python3.6/site-packages (from qiskit-terra>=0.19.1->qiskit_machine_learning) (2.8.1)\n",
      "Requirement already satisfied: joblib>=0.11 in /home/ec2-user/anaconda3/envs/python3/lib/python3.6/site-packages (from scikit-learn>=0.20.0->qiskit_machine_learning) (1.0.1)\n",
      "Requirement already satisfied: immutables>=0.9 in /home/ec2-user/anaconda3/envs/python3/lib/python3.6/site-packages (from contextvars>=2.4->qiskit-terra>=0.19.1->qiskit_machine_learning) (0.15)\n",
      "Requirement already satisfied: six>=1.5 in /home/ec2-user/anaconda3/envs/python3/lib/python3.6/site-packages (from python-dateutil>=2.8.0->qiskit-terra>=0.19.1->qiskit_machine_learning) (1.15.0)\n",
      "Requirement already satisfied: pbr!=2.1.0,>=2.0.0 in /home/ec2-user/anaconda3/envs/python3/lib/python3.6/site-packages (from stevedore>=3.0.0->qiskit-terra>=0.19.1->qiskit_machine_learning) (5.8.1)\n",
      "Requirement already satisfied: importlib-metadata>=1.7.0 in /home/ec2-user/anaconda3/envs/python3/lib/python3.6/site-packages (from stevedore>=3.0.0->qiskit-terra>=0.19.1->qiskit_machine_learning) (3.7.0)\n",
      "Requirement already satisfied: mpmath>=0.19 in /home/ec2-user/anaconda3/envs/python3/lib/python3.6/site-packages (from sympy>=1.3->qiskit-terra>=0.19.1->qiskit_machine_learning) (1.2.1)\n",
      "Requirement already satisfied: typing-extensions>=3.6.4 in /home/ec2-user/anaconda3/envs/python3/lib/python3.6/site-packages (from importlib-metadata>=1.7.0->stevedore>=3.0.0->qiskit-terra>=0.19.1->qiskit_machine_learning) (4.0.1)\n",
      "Requirement already satisfied: zipp>=0.5 in /home/ec2-user/anaconda3/envs/python3/lib/python3.6/site-packages (from importlib-metadata>=1.7.0->stevedore>=3.0.0->qiskit-terra>=0.19.1->qiskit_machine_learning) (3.4.0)\n",
      "Installing collected packages: qiskit-machine-learning\n",
      "Successfully installed qiskit-machine-learning-0.3.1\n"
     ]
    }
   ],
   "source": [
    "!pip install qiskit_machine_learning"
   ]
  },
  {
   "cell_type": "code",
   "execution_count": 86,
   "id": "03c94b28",
   "metadata": {},
   "outputs": [],
   "source": [
    "from qiskit import BasicAer\n",
    "from qiskit.utils import QuantumInstance, algorithm_globals\n",
    "from qiskit.algorithms.optimizers import COBYLA\n",
    "from qiskit.circuit.library import TwoLocal, ZZFeatureMap\n",
    "from qiskit_machine_learning.algorithms import VQC\n",
    "from qiskit_machine_learning.datasets import ad_hoc_data\n",
    "\n",
    "seed = 1376\n",
    "algorithm_globals.random_seed = seed\n",
    "\n",
    "feature_dim = 4  # dimension of each data point\n",
    "training_size = len(train_data)\n",
    "test_size = len(test_data)\n",
    "\n",
    "# training features, training labels, test features, test labels as np.array,\n",
    "# one hot encoding for labels\n",
    "\n",
    "\n",
    "training_features = train_data[['0','1','2','3']]\n",
    "test_features = test_data[['0','1','2','3']]\n",
    "training_labels = train_data[['4']]\n",
    "test_labels = test_data[['4']]"
   ]
  },
  {
   "cell_type": "code",
   "execution_count": 87,
   "id": "1dbd71bb",
   "metadata": {},
   "outputs": [],
   "source": [
    "feature_map = ZZFeatureMap(feature_dimension=feature_dim, reps=2, entanglement=\"linear\")\n",
    "ansatz = TwoLocal(feature_map.num_qubits, ['ry', 'rz'], 'cz', reps=3)\n"
   ]
  },
  {
   "cell_type": "code",
   "execution_count": 88,
   "id": "9e52253e",
   "metadata": {},
   "outputs": [],
   "source": [
    "vqc = VQC(feature_map=feature_map,\n",
    "          ansatz=ansatz,\n",
    "          optimizer=COBYLA(maxiter=100),\n",
    "          quantum_instance=QuantumInstance(BasicAer.get_backend('statevector_simulator'),\n",
    "                                           shots=1024,\n",
    "                                           seed_simulator=seed,\n",
    "                                           seed_transpiler=seed)\n",
    "          )"
   ]
  },
  {
   "cell_type": "code",
   "execution_count": 89,
   "id": "bac3a277",
   "metadata": {},
   "outputs": [
    {
     "ename": "KeyError",
     "evalue": "0",
     "output_type": "error",
     "traceback": [
      "\u001b[0;31m---------------------------------------------------------------------------\u001b[0m",
      "\u001b[0;31mKeyError\u001b[0m                                  Traceback (most recent call last)",
      "\u001b[0;32m~/anaconda3/envs/python3/lib/python3.6/site-packages/pandas/core/indexes/base.py\u001b[0m in \u001b[0;36mget_loc\u001b[0;34m(self, key, method, tolerance)\u001b[0m\n\u001b[1;32m   2897\u001b[0m             \u001b[0;32mtry\u001b[0m\u001b[0;34m:\u001b[0m\u001b[0;34m\u001b[0m\u001b[0;34m\u001b[0m\u001b[0m\n\u001b[0;32m-> 2898\u001b[0;31m                 \u001b[0;32mreturn\u001b[0m \u001b[0mself\u001b[0m\u001b[0;34m.\u001b[0m\u001b[0m_engine\u001b[0m\u001b[0;34m.\u001b[0m\u001b[0mget_loc\u001b[0m\u001b[0;34m(\u001b[0m\u001b[0mcasted_key\u001b[0m\u001b[0;34m)\u001b[0m\u001b[0;34m\u001b[0m\u001b[0;34m\u001b[0m\u001b[0m\n\u001b[0m\u001b[1;32m   2899\u001b[0m             \u001b[0;32mexcept\u001b[0m \u001b[0mKeyError\u001b[0m \u001b[0;32mas\u001b[0m \u001b[0merr\u001b[0m\u001b[0;34m:\u001b[0m\u001b[0;34m\u001b[0m\u001b[0;34m\u001b[0m\u001b[0m\n",
      "\u001b[0;32mpandas/_libs/index.pyx\u001b[0m in \u001b[0;36mpandas._libs.index.IndexEngine.get_loc\u001b[0;34m()\u001b[0m\n",
      "\u001b[0;32mpandas/_libs/index.pyx\u001b[0m in \u001b[0;36mpandas._libs.index.IndexEngine.get_loc\u001b[0;34m()\u001b[0m\n",
      "\u001b[0;32mpandas/_libs/hashtable_class_helper.pxi\u001b[0m in \u001b[0;36mpandas._libs.hashtable.PyObjectHashTable.get_item\u001b[0;34m()\u001b[0m\n",
      "\u001b[0;32mpandas/_libs/hashtable_class_helper.pxi\u001b[0m in \u001b[0;36mpandas._libs.hashtable.PyObjectHashTable.get_item\u001b[0;34m()\u001b[0m\n",
      "\u001b[0;31mKeyError\u001b[0m: 0",
      "\nThe above exception was the direct cause of the following exception:\n",
      "\u001b[0;31mKeyError\u001b[0m                                  Traceback (most recent call last)",
      "\u001b[0;32m<ipython-input-89-ef5d0aced0e1>\u001b[0m in \u001b[0;36m<module>\u001b[0;34m\u001b[0m\n\u001b[0;32m----> 1\u001b[0;31m \u001b[0mvqc\u001b[0m\u001b[0;34m.\u001b[0m\u001b[0mfit\u001b[0m\u001b[0;34m(\u001b[0m\u001b[0mtraining_features\u001b[0m\u001b[0;34m,\u001b[0m \u001b[0mtraining_labels\u001b[0m\u001b[0;34m)\u001b[0m\u001b[0;34m\u001b[0m\u001b[0;34m\u001b[0m\u001b[0m\n\u001b[0m\u001b[1;32m      2\u001b[0m \u001b[0;34m\u001b[0m\u001b[0m\n\u001b[1;32m      3\u001b[0m \u001b[0mscore\u001b[0m \u001b[0;34m=\u001b[0m \u001b[0mvqc\u001b[0m\u001b[0;34m.\u001b[0m\u001b[0mscore\u001b[0m\u001b[0;34m(\u001b[0m\u001b[0mtest_features\u001b[0m\u001b[0;34m,\u001b[0m \u001b[0mtest_labels\u001b[0m\u001b[0;34m)\u001b[0m\u001b[0;34m\u001b[0m\u001b[0;34m\u001b[0m\u001b[0m\n\u001b[1;32m      4\u001b[0m \u001b[0mprint\u001b[0m\u001b[0;34m(\u001b[0m\u001b[0;34mf\"Testing accuracy: {score:0.2f}\"\u001b[0m\u001b[0;34m)\u001b[0m\u001b[0;34m\u001b[0m\u001b[0;34m\u001b[0m\u001b[0m\n",
      "\u001b[0;32m~/anaconda3/envs/python3/lib/python3.6/site-packages/qiskit_machine_learning/algorithms/classifiers/vqc.py\u001b[0m in \u001b[0;36mfit\u001b[0;34m(self, X, y)\u001b[0m\n\u001b[1;32m    175\u001b[0m             \u001b[0mself\u001b[0m\u001b[0;34m.\u001b[0m\u001b[0m_get_interpret\u001b[0m\u001b[0;34m(\u001b[0m\u001b[0mnum_classes\u001b[0m\u001b[0;34m)\u001b[0m\u001b[0;34m,\u001b[0m \u001b[0mnum_classes\u001b[0m\u001b[0;34m\u001b[0m\u001b[0;34m\u001b[0m\u001b[0m\n\u001b[1;32m    176\u001b[0m         )\n\u001b[0;32m--> 177\u001b[0;31m         \u001b[0;32mreturn\u001b[0m \u001b[0msuper\u001b[0m\u001b[0;34m(\u001b[0m\u001b[0;34m)\u001b[0m\u001b[0;34m.\u001b[0m\u001b[0mfit\u001b[0m\u001b[0;34m(\u001b[0m\u001b[0mX\u001b[0m\u001b[0;34m,\u001b[0m \u001b[0my\u001b[0m\u001b[0;34m)\u001b[0m\u001b[0;34m\u001b[0m\u001b[0;34m\u001b[0m\u001b[0m\n\u001b[0m\u001b[1;32m    178\u001b[0m \u001b[0;34m\u001b[0m\u001b[0m\n\u001b[1;32m    179\u001b[0m     \u001b[0;32mdef\u001b[0m \u001b[0m_get_interpret\u001b[0m\u001b[0;34m(\u001b[0m\u001b[0mself\u001b[0m\u001b[0;34m,\u001b[0m \u001b[0mnum_classes\u001b[0m\u001b[0;34m:\u001b[0m \u001b[0mint\u001b[0m\u001b[0;34m)\u001b[0m\u001b[0;34m:\u001b[0m\u001b[0;34m\u001b[0m\u001b[0;34m\u001b[0m\u001b[0m\n",
      "\u001b[0;32m~/anaconda3/envs/python3/lib/python3.6/site-packages/qiskit_machine_learning/algorithms/classifiers/neural_network_classifier.py\u001b[0m in \u001b[0;36mfit\u001b[0;34m(self, X, y)\u001b[0m\n\u001b[1;32m     87\u001b[0m \u001b[0;34m\u001b[0m\u001b[0m\n\u001b[1;32m     88\u001b[0m     \u001b[0;32mdef\u001b[0m \u001b[0mfit\u001b[0m\u001b[0;34m(\u001b[0m\u001b[0mself\u001b[0m\u001b[0;34m,\u001b[0m \u001b[0mX\u001b[0m\u001b[0;34m:\u001b[0m \u001b[0mnp\u001b[0m\u001b[0;34m.\u001b[0m\u001b[0mndarray\u001b[0m\u001b[0;34m,\u001b[0m \u001b[0my\u001b[0m\u001b[0;34m:\u001b[0m \u001b[0mnp\u001b[0m\u001b[0;34m.\u001b[0m\u001b[0mndarray\u001b[0m\u001b[0;34m)\u001b[0m\u001b[0;34m:\u001b[0m  \u001b[0;31m# pylint: disable=invalid-name\u001b[0m\u001b[0;34m\u001b[0m\u001b[0;34m\u001b[0m\u001b[0m\n\u001b[0;32m---> 89\u001b[0;31m         \u001b[0my\u001b[0m \u001b[0;34m=\u001b[0m \u001b[0mself\u001b[0m\u001b[0;34m.\u001b[0m\u001b[0m_fit_and_encode_labels\u001b[0m\u001b[0;34m(\u001b[0m\u001b[0my\u001b[0m\u001b[0;34m)\u001b[0m\u001b[0;34m\u001b[0m\u001b[0;34m\u001b[0m\u001b[0m\n\u001b[0m\u001b[1;32m     90\u001b[0m \u001b[0;34m\u001b[0m\u001b[0m\n\u001b[1;32m     91\u001b[0m         \u001b[0;31m# mypy definition\u001b[0m\u001b[0;34m\u001b[0m\u001b[0;34m\u001b[0m\u001b[0;34m\u001b[0m\u001b[0m\n",
      "\u001b[0;32m~/anaconda3/envs/python3/lib/python3.6/site-packages/qiskit_machine_learning/algorithms/classifiers/neural_network_classifier.py\u001b[0m in \u001b[0;36m_fit_and_encode_labels\u001b[0;34m(self, y)\u001b[0m\n\u001b[1;32m    138\u001b[0m         \u001b[0;34m\"\"\"Fits label or one-hot encoder and converts categorical target data.\"\"\"\u001b[0m\u001b[0;34m\u001b[0m\u001b[0;34m\u001b[0m\u001b[0m\n\u001b[1;32m    139\u001b[0m \u001b[0;34m\u001b[0m\u001b[0m\n\u001b[0;32m--> 140\u001b[0;31m         \u001b[0;32mif\u001b[0m \u001b[0misinstance\u001b[0m\u001b[0;34m(\u001b[0m\u001b[0my\u001b[0m\u001b[0;34m[\u001b[0m\u001b[0;36m0\u001b[0m\u001b[0;34m]\u001b[0m\u001b[0;34m,\u001b[0m \u001b[0mstr\u001b[0m\u001b[0;34m)\u001b[0m\u001b[0;34m:\u001b[0m\u001b[0;34m\u001b[0m\u001b[0;34m\u001b[0m\u001b[0m\n\u001b[0m\u001b[1;32m    141\u001b[0m             \u001b[0;31m# string data is assumed to be categorical\u001b[0m\u001b[0;34m\u001b[0m\u001b[0;34m\u001b[0m\u001b[0;34m\u001b[0m\u001b[0m\n\u001b[1;32m    142\u001b[0m \u001b[0;34m\u001b[0m\u001b[0m\n",
      "\u001b[0;32m~/anaconda3/envs/python3/lib/python3.6/site-packages/pandas/core/frame.py\u001b[0m in \u001b[0;36m__getitem__\u001b[0;34m(self, key)\u001b[0m\n\u001b[1;32m   2904\u001b[0m             \u001b[0;32mif\u001b[0m \u001b[0mself\u001b[0m\u001b[0;34m.\u001b[0m\u001b[0mcolumns\u001b[0m\u001b[0;34m.\u001b[0m\u001b[0mnlevels\u001b[0m \u001b[0;34m>\u001b[0m \u001b[0;36m1\u001b[0m\u001b[0;34m:\u001b[0m\u001b[0;34m\u001b[0m\u001b[0;34m\u001b[0m\u001b[0m\n\u001b[1;32m   2905\u001b[0m                 \u001b[0;32mreturn\u001b[0m \u001b[0mself\u001b[0m\u001b[0;34m.\u001b[0m\u001b[0m_getitem_multilevel\u001b[0m\u001b[0;34m(\u001b[0m\u001b[0mkey\u001b[0m\u001b[0;34m)\u001b[0m\u001b[0;34m\u001b[0m\u001b[0;34m\u001b[0m\u001b[0m\n\u001b[0;32m-> 2906\u001b[0;31m             \u001b[0mindexer\u001b[0m \u001b[0;34m=\u001b[0m \u001b[0mself\u001b[0m\u001b[0;34m.\u001b[0m\u001b[0mcolumns\u001b[0m\u001b[0;34m.\u001b[0m\u001b[0mget_loc\u001b[0m\u001b[0;34m(\u001b[0m\u001b[0mkey\u001b[0m\u001b[0;34m)\u001b[0m\u001b[0;34m\u001b[0m\u001b[0;34m\u001b[0m\u001b[0m\n\u001b[0m\u001b[1;32m   2907\u001b[0m             \u001b[0;32mif\u001b[0m \u001b[0mis_integer\u001b[0m\u001b[0;34m(\u001b[0m\u001b[0mindexer\u001b[0m\u001b[0;34m)\u001b[0m\u001b[0;34m:\u001b[0m\u001b[0;34m\u001b[0m\u001b[0;34m\u001b[0m\u001b[0m\n\u001b[1;32m   2908\u001b[0m                 \u001b[0mindexer\u001b[0m \u001b[0;34m=\u001b[0m \u001b[0;34m[\u001b[0m\u001b[0mindexer\u001b[0m\u001b[0;34m]\u001b[0m\u001b[0;34m\u001b[0m\u001b[0;34m\u001b[0m\u001b[0m\n",
      "\u001b[0;32m~/anaconda3/envs/python3/lib/python3.6/site-packages/pandas/core/indexes/base.py\u001b[0m in \u001b[0;36mget_loc\u001b[0;34m(self, key, method, tolerance)\u001b[0m\n\u001b[1;32m   2898\u001b[0m                 \u001b[0;32mreturn\u001b[0m \u001b[0mself\u001b[0m\u001b[0;34m.\u001b[0m\u001b[0m_engine\u001b[0m\u001b[0;34m.\u001b[0m\u001b[0mget_loc\u001b[0m\u001b[0;34m(\u001b[0m\u001b[0mcasted_key\u001b[0m\u001b[0;34m)\u001b[0m\u001b[0;34m\u001b[0m\u001b[0;34m\u001b[0m\u001b[0m\n\u001b[1;32m   2899\u001b[0m             \u001b[0;32mexcept\u001b[0m \u001b[0mKeyError\u001b[0m \u001b[0;32mas\u001b[0m \u001b[0merr\u001b[0m\u001b[0;34m:\u001b[0m\u001b[0;34m\u001b[0m\u001b[0;34m\u001b[0m\u001b[0m\n\u001b[0;32m-> 2900\u001b[0;31m                 \u001b[0;32mraise\u001b[0m \u001b[0mKeyError\u001b[0m\u001b[0;34m(\u001b[0m\u001b[0mkey\u001b[0m\u001b[0;34m)\u001b[0m \u001b[0;32mfrom\u001b[0m \u001b[0merr\u001b[0m\u001b[0;34m\u001b[0m\u001b[0;34m\u001b[0m\u001b[0m\n\u001b[0m\u001b[1;32m   2901\u001b[0m \u001b[0;34m\u001b[0m\u001b[0m\n\u001b[1;32m   2902\u001b[0m         \u001b[0;32mif\u001b[0m \u001b[0mtolerance\u001b[0m \u001b[0;32mis\u001b[0m \u001b[0;32mnot\u001b[0m \u001b[0;32mNone\u001b[0m\u001b[0;34m:\u001b[0m\u001b[0;34m\u001b[0m\u001b[0;34m\u001b[0m\u001b[0m\n",
      "\u001b[0;31mKeyError\u001b[0m: 0"
     ]
    }
   ],
   "source": [
    "vqc.fit(training_features, training_labels)\n",
    "\n",
    "score = vqc.score(test_features, test_labels)\n",
    "print(f\"Testing accuracy: {score:0.2f}\")"
   ]
  },
  {
   "cell_type": "code",
   "execution_count": 77,
   "id": "8aa36b97",
   "metadata": {},
   "outputs": [
    {
     "ename": "ModuleNotFoundError",
     "evalue": "No module named 'qiskit.extensions.standard'",
     "output_type": "error",
     "traceback": [
      "\u001b[0;31m---------------------------------------------------------------------------\u001b[0m",
      "\u001b[0;31mModuleNotFoundError\u001b[0m                       Traceback (most recent call last)",
      "\u001b[0;32m<ipython-input-77-125e60557bb4>\u001b[0m in \u001b[0;36m<module>\u001b[0;34m\u001b[0m\n\u001b[1;32m      9\u001b[0m \u001b[0;34m\u001b[0m\u001b[0m\n\u001b[1;32m     10\u001b[0m \u001b[0;32mfrom\u001b[0m \u001b[0mdc_qiskit_qml\u001b[0m\u001b[0;34m.\u001b[0m\u001b[0mfeature_maps\u001b[0m \u001b[0;32mimport\u001b[0m \u001b[0mNormedAmplitudeEncoding\u001b[0m\u001b[0;34m\u001b[0m\u001b[0;34m\u001b[0m\u001b[0m\n\u001b[0;32m---> 11\u001b[0;31m \u001b[0;32mfrom\u001b[0m \u001b[0mdc_qiskit_qml\u001b[0m\u001b[0;34m.\u001b[0m\u001b[0mdistance_based\u001b[0m\u001b[0;34m.\u001b[0m\u001b[0mhadamard\u001b[0m \u001b[0;32mimport\u001b[0m \u001b[0mQmlHadamardNeighborClassifier\u001b[0m\u001b[0;34m\u001b[0m\u001b[0;34m\u001b[0m\u001b[0m\n\u001b[0m\u001b[1;32m     12\u001b[0m \u001b[0;32mfrom\u001b[0m \u001b[0mdc_qiskit_qml\u001b[0m\u001b[0;34m.\u001b[0m\u001b[0mdistance_based\u001b[0m\u001b[0;34m.\u001b[0m\u001b[0mhadamard\u001b[0m\u001b[0;34m.\u001b[0m\u001b[0mstate\u001b[0m \u001b[0;32mimport\u001b[0m \u001b[0mQmlGenericStateCircuitBuilder\u001b[0m\u001b[0;34m\u001b[0m\u001b[0;34m\u001b[0m\u001b[0m\n\u001b[1;32m     13\u001b[0m \u001b[0;32mfrom\u001b[0m \u001b[0mdc_qiskit_qml\u001b[0m\u001b[0;34m.\u001b[0m\u001b[0mdistance_based\u001b[0m\u001b[0;34m.\u001b[0m\u001b[0mhadamard\u001b[0m\u001b[0;34m.\u001b[0m\u001b[0mstate\u001b[0m\u001b[0;34m.\u001b[0m\u001b[0msparsevector\u001b[0m \u001b[0;32mimport\u001b[0m \u001b[0mMöttönenStatePreparation\u001b[0m\u001b[0;34m\u001b[0m\u001b[0;34m\u001b[0m\u001b[0m\n",
      "\u001b[0;32m~/anaconda3/envs/python3/lib/python3.6/site-packages/dc_qiskit_qml/distance_based/hadamard/__init__.py\u001b[0m in \u001b[0;36m<module>\u001b[0;34m\u001b[0m\n\u001b[1;32m     15\u001b[0m \u001b[0;31m# limitations under the License.\u001b[0m\u001b[0;34m\u001b[0m\u001b[0;34m\u001b[0m\u001b[0;34m\u001b[0m\u001b[0m\n\u001b[1;32m     16\u001b[0m \u001b[0;34m\u001b[0m\u001b[0m\n\u001b[0;32m---> 17\u001b[0;31m \u001b[0;32mfrom\u001b[0m \u001b[0;34m.\u001b[0m\u001b[0m_QmlHadamardNeighborClassifier\u001b[0m \u001b[0;32mimport\u001b[0m \u001b[0mQmlHadamardNeighborClassifier\u001b[0m\u001b[0;34m\u001b[0m\u001b[0;34m\u001b[0m\u001b[0m\n\u001b[0m\u001b[1;32m     18\u001b[0m \u001b[0;34m\u001b[0m\u001b[0m\n",
      "\u001b[0;32m~/anaconda3/envs/python3/lib/python3.6/site-packages/dc_qiskit_qml/distance_based/hadamard/_QmlHadamardNeighborClassifier.py\u001b[0m in \u001b[0;36m<module>\u001b[0;34m\u001b[0m\n\u001b[1;32m     60\u001b[0m \u001b[0;32mfrom\u001b[0m \u001b[0msklearn\u001b[0m\u001b[0;34m.\u001b[0m\u001b[0mneighbors\u001b[0m\u001b[0;34m.\u001b[0m\u001b[0mbase\u001b[0m \u001b[0;32mimport\u001b[0m \u001b[0mSupervisedIntegerMixin\u001b[0m\u001b[0;34m\u001b[0m\u001b[0;34m\u001b[0m\u001b[0m\n\u001b[1;32m     61\u001b[0m \u001b[0;34m\u001b[0m\u001b[0m\n\u001b[0;32m---> 62\u001b[0;31m \u001b[0;32mfrom\u001b[0m \u001b[0;34m.\u001b[0m\u001b[0mstate\u001b[0m \u001b[0;32mimport\u001b[0m \u001b[0mQmlStateCircuitBuilder\u001b[0m\u001b[0;34m\u001b[0m\u001b[0;34m\u001b[0m\u001b[0m\n\u001b[0m\u001b[1;32m     63\u001b[0m \u001b[0;32mfrom\u001b[0m \u001b[0;34m...\u001b[0m\u001b[0mfeature_maps\u001b[0m \u001b[0;32mimport\u001b[0m \u001b[0mFeatureMap\u001b[0m\u001b[0;34m\u001b[0m\u001b[0;34m\u001b[0m\u001b[0m\n\u001b[1;32m     64\u001b[0m \u001b[0;34m\u001b[0m\u001b[0m\n",
      "\u001b[0;32m~/anaconda3/envs/python3/lib/python3.6/site-packages/dc_qiskit_qml/distance_based/hadamard/state/__init__.py\u001b[0m in \u001b[0;36m<module>\u001b[0;34m\u001b[0m\n\u001b[1;32m     17\u001b[0m \u001b[0;32mfrom\u001b[0m \u001b[0;34m.\u001b[0m\u001b[0m_QmlGenericStateCircuitBuilder\u001b[0m \u001b[0;32mimport\u001b[0m \u001b[0mQmlGenericStateCircuitBuilder\u001b[0m\u001b[0;34m\u001b[0m\u001b[0;34m\u001b[0m\u001b[0m\n\u001b[1;32m     18\u001b[0m \u001b[0;32mfrom\u001b[0m \u001b[0;34m.\u001b[0m\u001b[0m_QmlStateCircuitBuilder\u001b[0m \u001b[0;32mimport\u001b[0m \u001b[0mQmlStateCircuitBuilder\u001b[0m\u001b[0;34m\u001b[0m\u001b[0;34m\u001b[0m\u001b[0m\n\u001b[0;32m---> 19\u001b[0;31m \u001b[0;32mfrom\u001b[0m \u001b[0;34m.\u001b[0m\u001b[0m_QmlBinaryDataStateCircuitBuilder\u001b[0m \u001b[0;32mimport\u001b[0m \u001b[0mQmlBinaryDataStateCircuitBuilder\u001b[0m\u001b[0;34m\u001b[0m\u001b[0;34m\u001b[0m\u001b[0m\n\u001b[0m",
      "\u001b[0;32m~/anaconda3/envs/python3/lib/python3.6/site-packages/dc_qiskit_qml/distance_based/hadamard/state/_QmlBinaryDataStateCircuitBuilder.py\u001b[0m in \u001b[0;36m<module>\u001b[0;34m\u001b[0m\n\u001b[1;32m     41\u001b[0m \u001b[0;32mfrom\u001b[0m \u001b[0mqiskit\u001b[0m\u001b[0;34m.\u001b[0m\u001b[0mconverters\u001b[0m \u001b[0;32mimport\u001b[0m \u001b[0mcircuit_to_dag\u001b[0m\u001b[0;34m,\u001b[0m \u001b[0mdag_to_circuit\u001b[0m\u001b[0;34m\u001b[0m\u001b[0;34m\u001b[0m\u001b[0m\n\u001b[1;32m     42\u001b[0m \u001b[0;32mfrom\u001b[0m \u001b[0mqiskit\u001b[0m\u001b[0;34m.\u001b[0m\u001b[0mdagcircuit\u001b[0m \u001b[0;32mimport\u001b[0m \u001b[0mDAGNode\u001b[0m\u001b[0;34m\u001b[0m\u001b[0;34m\u001b[0m\u001b[0m\n\u001b[0;32m---> 43\u001b[0;31m \u001b[0;32mfrom\u001b[0m \u001b[0mqiskit\u001b[0m\u001b[0;34m.\u001b[0m\u001b[0mextensions\u001b[0m\u001b[0;34m.\u001b[0m\u001b[0mstandard\u001b[0m\u001b[0;34m.\u001b[0m\u001b[0mh\u001b[0m \u001b[0;32mimport\u001b[0m \u001b[0mh\u001b[0m\u001b[0;34m\u001b[0m\u001b[0;34m\u001b[0m\u001b[0m\n\u001b[0m\u001b[1;32m     44\u001b[0m \u001b[0;32mfrom\u001b[0m \u001b[0mscipy\u001b[0m \u001b[0;32mimport\u001b[0m \u001b[0msparse\u001b[0m\u001b[0;34m\u001b[0m\u001b[0;34m\u001b[0m\u001b[0m\n\u001b[1;32m     45\u001b[0m \u001b[0;34m\u001b[0m\u001b[0m\n",
      "\u001b[0;31mModuleNotFoundError\u001b[0m: No module named 'qiskit.extensions.standard'"
     ]
    }
   ],
   "source": [
    "import numpy as np\n",
    "import sklearn\n",
    "from sklearn.datasets import load_iris\n",
    "from sklearn.preprocessing import StandardScaler, Normalizer\n",
    "from sklearn.model_selection import train_test_split\n",
    "from sklearn.pipeline import Pipeline\n",
    "\n",
    "import qiskit\n",
    "\n",
    "from dc_qiskit_qml.feature_maps import NormedAmplitudeEncoding\n",
    "from dc_qiskit_qml.distance_based.hadamard import QmlHadamardNeighborClassifier\n",
    "from dc_qiskit_qml.distance_based.hadamard.state import QmlGenericStateCircuitBuilder\n",
    "from dc_qiskit_qml.distance_based.hadamard.state.sparsevector import MöttönenStatePreparation\n",
    "\n",
    "preprocessing_pipeline = Pipeline([\n",
    "    ('scaler',  StandardScaler()),\n",
    "    ('l2norm', Normalizer(norm='l2', copy=True))\n",
    "])\n",
    "X = preprocessing_pipeline.fit_transform(X, y)\n",
    "\n",
    "X_train = train_data[['0','1','2','3']]\n",
    "X_test = test_data[['0','1','2','3']]\n",
    "y_train = train_data[['4']]\n",
    "y_test = test_data[['4']]\n",
    "\n",
    "# Using the generic wave function (state vector) routine using the 'Möttönen'\n",
    "# state preparation algorithm\n",
    "initial_state_builder = QmlGenericStateCircuitBuilder(MöttönenStatePreparation())\n",
    "\n",
    "# The normed amplitude encoding ensures that the data is normalized\n",
    "# This is a somewhat unnecessary step as above we do that already\n",
    "feature_map = NormedAmplitudeEncoding()\n",
    "\n",
    "execution_backend: BaseBackend = qiskit.Aer.get_backend('qasm_simulator')\n",
    "qml = QmlHadamardNeighborClassifier(backend=execution_backend,\n",
    "                                    shots=8192,\n",
    "                                    classifier_circuit_factory=initial_state_builder,\n",
    "                                    feature_map=feature_map)\n",
    "\n",
    "qml.fit(X_train, y_train)\n",
    "prediction = qml.predict(X_test)\n",
    "\n",
    "\"Test Accuracy: {}\".format(\n",
    "    sum([1 if p == t else 0 for p, t in zip(prediction, y_test)])/len(prediction)\n",
    ")\n",
    "\n",
    "prediction_train = qml.predict(X_train)\n",
    "\"Train Accuracy: {}\".format(\n",
    "    sum([1 if p == t else 0 for p, t in zip(prediction_train, y_train)])/len(prediction_train)\n",
    ")"
   ]
  },
  {
   "cell_type": "code",
   "execution_count": 32,
   "id": "0946a189",
   "metadata": {},
   "outputs": [],
   "source": [
    "# Using SVD to reduce dimensions to 3\n",
    "tsvd = TruncatedSVD(n_components=3)\n",
    "X_SVD = tsvd.fit_transform(train_data_features)\n",
    "\n",
    "# Use t-SNE technique to reduce dimensions to 2\n",
    "np.random.seed(0)\n",
    "tsne = TSNE(n_components=2)\n",
    "train_data_features_reduced = tsne.fit_transform(X_SVD)"
   ]
  },
  {
   "cell_type": "code",
   "execution_count": 33,
   "id": "3bb8e4c1",
   "metadata": {},
   "outputs": [],
   "source": [
    "# function to help plot the dataset\n",
    "def plotdataset(X, Y, c1, c2, N):\n",
    "    lbl1 = f'Component {c1}'\n",
    "    lbl2 = f'Component {c2}'    \n",
    "    df = pd.DataFrame({lbl1:X[:N,c1], lbl2:X[:N,c2], 'label':Y[:N]})\n",
    "    sns.lmplot(data=df, x=lbl1, y=lbl2, fit_reg=False, hue='label', scatter_kws={'alpha':0.5})"
   ]
  },
  {
   "cell_type": "code",
   "execution_count": 36,
   "id": "56c2a6c4",
   "metadata": {},
   "outputs": [
    {
     "data": {
      "image/png": "[encoded data removed]",
      "text/plain": [
       "<Figure size 419x360 with 1 Axes>"
      ]
     },
     "metadata": {
      "needs_background": "light"
     },
     "output_type": "display_data"
    }
   ],
   "source": [
    "plotdataset(train_data_features_reduced, train_data_labels, 0, 1, N=1)"
   ]
  },
  {
   "cell_type": "code",
   "execution_count": 37,
   "id": "b39dac2a",
   "metadata": {},
   "outputs": [
    {
     "data": {
      "text/html": [
       "<pre style=\"word-wrap: normal;white-space: pre;background: #fff0;line-height: 1.1;font-family: &quot;Courier New&quot;,Courier,monospace\">     ┌─────────────────────────────┐\n",
       "q_0: ┤0                            ├\n",
       "     │  PauliFeatureMap(x[0],x[1]) │\n",
       "q_1: ┤1                            ├\n",
       "     └─────────────────────────────┘</pre>"
      ],
      "text/plain": [
       "     ┌─────────────────────────────┐\n",
       "q_0: ┤0                            ├\n",
       "     │  PauliFeatureMap(x[0],x[1]) │\n",
       "q_1: ┤1                            ├\n",
       "     └─────────────────────────────┘"
      ]
     },
     "execution_count": 37,
     "metadata": {},
     "output_type": "execute_result"
    }
   ],
   "source": [
    "from qiskit.circuit.library import ZZFeatureMap, ZFeatureMap, PauliFeatureMap\n",
    "feature_dim = 2\n",
    "pauli_feature_map = PauliFeatureMap(feature_dimension=feature_dim, reps=1, paulis = ['Z','X','ZY'])\n",
    "pauli_feature_map.draw()"
   ]
  },
  {
   "cell_type": "code",
   "execution_count": 38,
   "id": "efd0921d",
   "metadata": {},
   "outputs": [],
   "source": [
    "from qiskit.circuit.library import RealAmplitudes\n",
    "\n",
    "num_qubits = 2\n",
    "\n",
    "variational_circ = RealAmplitudes(num_qubits, entanglement='full', reps=3)"
   ]
  },
  {
   "cell_type": "code",
   "execution_count": 40,
   "id": "f1860cdb",
   "metadata": {},
   "outputs": [],
   "source": [
    "from qiskit.circuit.library import EfficientSU2, RealAmplitudes\n",
    "\n",
    "var_circuit = EfficientSU2(feature_dim, reps=2)\n"
   ]
  },
  {
   "cell_type": "code",
   "execution_count": 41,
   "id": "bd639366",
   "metadata": {},
   "outputs": [
    {
     "name": "stderr",
     "output_type": "stream",
     "text": [
      "/home/ec2-user/anaconda3/envs/python3/lib/python3.6/site-packages/ipykernel/__main__.py:16: DeprecationWarning: The QuantumCircuit.u1 method is deprecated as of 0.16.0. It will be removed no earlier than 3 months after the release date. You should use the QuantumCircuit.p method instead, which acts identically.\n"
     ]
    },
    {
     "data": {
      "text/html": [
       "<pre style=\"word-wrap: normal;white-space: pre;background: #fff0;line-height: 1.1;font-family: &quot;Courier New&quot;,Courier,monospace\">     ┌──────────┐                                                           »\n",
       "q_0: ┤ Rx(x[0]) ├──■─────────────────────■────■─────────────────────■───────»\n",
       "     ├──────────┤┌─┴─┐┌───────────────┐┌─┴─┐  │                     │       »\n",
       "q_1: ┤ Rx(x[1]) ├┤ X ├┤ U1(x[0]*x[1]) ├┤ X ├──┼─────────────────────┼────■──»\n",
       "     ├──────────┤└───┘└───────────────┘└───┘┌─┴─┐┌───────────────┐┌─┴─┐┌─┴─┐»\n",
       "q_2: ┤ Rx(x[2]) ├───────────────────────────┤ X ├┤ U1(x[0]*x[2]) ├┤ X ├┤ X ├»\n",
       "     └──────────┘                           └───┘└───────────────┘└───┘└───┘»\n",
       "«                           \n",
       "«q_0: ──────────────────────\n",
       "«                           \n",
       "«q_1: ───────────────────■──\n",
       "«     ┌───────────────┐┌─┴─┐\n",
       "«q_2: ┤ U1(x[1]*x[2]) ├┤ X ├\n",
       "«     └───────────────┘└───┘</pre>"
      ],
      "text/plain": [
       "     ┌──────────┐                                                           »\n",
       "q_0: ┤ Rx(x[0]) ├──■─────────────────────■────■─────────────────────■───────»\n",
       "     ├──────────┤┌─┴─┐┌───────────────┐┌─┴─┐  │                     │       »\n",
       "q_1: ┤ Rx(x[1]) ├┤ X ├┤ U1(x[0]*x[1]) ├┤ X ├──┼─────────────────────┼────■──»\n",
       "     ├──────────┤└───┘└───────────────┘└───┘┌─┴─┐┌───────────────┐┌─┴─┐┌─┴─┐»\n",
       "q_2: ┤ Rx(x[2]) ├───────────────────────────┤ X ├┤ U1(x[0]*x[2]) ├┤ X ├┤ X ├»\n",
       "     └──────────┘                           └───┘└───────────────┘└───┘└───┘»\n",
       "«                           \n",
       "«q_0: ──────────────────────\n",
       "«                           \n",
       "«q_1: ───────────────────■──\n",
       "«     ┌───────────────┐┌─┴─┐\n",
       "«q_2: ┤ U1(x[1]*x[2]) ├┤ X ├\n",
       "«     └───────────────┘└───┘"
      ]
     },
     "execution_count": 41,
     "metadata": {},
     "output_type": "execute_result"
    }
   ],
   "source": [
    "from qiskit.circuit import QuantumCircuit, ParameterVector\n",
    "\n",
    "num_qubits = 3            \n",
    "iter = 1              # number of times you'd want to repeat the circuit\n",
    "\n",
    "x = ParameterVector('x', length=num_qubits)  # creating a list of Parameters\n",
    "custom_circ = QuantumCircuit(num_qubits)\n",
    "\n",
    "# defining our parametric form\n",
    "for _ in range(iter):\n",
    "    for i in range(num_qubits):\n",
    "        custom_circ.rx(x[i], i)\n",
    "    for i in range(num_qubits):\n",
    "        for j in range(i + 1, num_qubits):\n",
    "            custom_circ.cx(i, j)\n",
    "            custom_circ.u1(x[i] * x[j], j)\n",
    "            custom_circ.cx(i, j)\n",
    "            \n",
    "custom_circ.draw()"
   ]
  },
  {
   "cell_type": "code",
   "execution_count": 45,
   "id": "9ff7b1d0",
   "metadata": {},
   "outputs": [],
   "source": [
    "# extract training and test sets and sort them by class label\n",
    "\n",
    "x_train = train_data[['0','1','2','3']]\n",
    "y_train = train_data[['4']]\n",
    "\n",
    "x_test = test_data[['0','1','2','3']]\n",
    "y_test = test_data[['4']]"
   ]
  },
  {
   "cell_type": "code",
   "execution_count": 50,
   "id": "87c0d9fa",
   "metadata": {},
   "outputs": [
    {
     "name": "stderr",
     "output_type": "stream",
     "text": [
      "/home/ec2-user/anaconda3/envs/python3/lib/python3.6/site-packages/ipykernel/__main__.py:11: DeprecationWarning: The variable qiskit.aqua.aqua_globals is deprecated. It was moved/refactored to qiskit.utils.algorithm_globals (pip install qiskit-terra). For more information see <https://github.com/Qiskit/qiskit-aqua/blob/main/README.md#migration-guide>\n"
     ]
    }
   ],
   "source": [
    "import numpy as np\n",
    "\n",
    "from qiskit import BasicAer\n",
    "from qiskit.aqua import QuantumInstance, aqua_globals\n",
    "from qiskit.aqua.algorithms import VQC\n",
    "from qiskit.aqua.components.optimizers import SPSA\n",
    "from qiskit.circuit.library import TwoLocal, ZZFeatureMap\n",
    "from qiskit.aqua.utils import split_dataset_to_data_and_labels, map_label_to_class_name\n",
    "\n",
    "seed = 10599\n",
    "aqua_globals.random_seed = seed"
   ]
  },
  {
   "cell_type": "code",
   "execution_count": 53,
   "id": "55ac8953",
   "metadata": {},
   "outputs": [
    {
     "name": "stdout",
     "output_type": "stream",
     "text": [
      "Classes and corresponding labels are:\n",
      "Class: 4, Label: 0      1.0\n",
      "1      0.0\n",
      "2      0.0\n",
      "3      1.0\n",
      "4      0.0\n",
      "      ... \n",
      "115    1.0\n",
      "116    0.0\n",
      "117    0.0\n",
      "118    0.0\n",
      "119    0.0\n",
      "Name: 4, Length: 120, dtype: float64\n"
     ]
    }
   ],
   "source": [
    "sample_test_data = test_data\n",
    "data_pts = test_data[['0','1','2','3']]\n",
    "class2label = test_data[['4']]\n",
    "print(\"Classes and corresponding labels are:\")\n",
    "for c in class2label:\n",
    "    print(f\"Class: {c}, Label: {class2label[c]}\")"
   ]
  },
  {
   "cell_type": "code",
   "execution_count": 56,
   "id": "3f36e39b",
   "metadata": {},
   "outputs": [],
   "source": [
    "from qiskit import Aer\n",
    "from qiskit.ml.datasets import ad_hoc_data, sample_ad_hoc_data, breast_cancer\n",
    "from qiskit.circuit.library import ZZFeatureMap\n",
    "from qiskit.aqua.utils import split_dataset_to_data_and_labels, map_label_to_class_name\n",
    "from qiskit.aqua import QuantumInstance\n",
    "from qiskit.aqua.algorithms import QSVM\n",
    "seed = 10598  # Setting seed to ensure reproducable results\n",
    "\n",
    "feature_map = ZZFeatureMap(feature_dimension=feature_dim, reps=2, entanglement='linear')\n"
   ]
  },
  {
   "cell_type": "code",
   "execution_count": 62,
   "id": "2d20e487",
   "metadata": {},
   "outputs": [
    {
     "ename": "AquaError",
     "evalue": "'Dataset has more than two classes. A multiclass extension must be provided.'",
     "output_type": "error",
     "traceback": [
      "\u001b[0;31m---------------------------------------------------------------------------\u001b[0m",
      "\u001b[0;31mAquaError\u001b[0m                                 Traceback (most recent call last)",
      "\u001b[0;32m<ipython-input-62-ac2aa103e025>\u001b[0m in \u001b[0;36m<module>\u001b[0;34m\u001b[0m\n\u001b[0;32m----> 1\u001b[0;31m \u001b[0mqsvm\u001b[0m \u001b[0;34m=\u001b[0m \u001b[0mQSVM\u001b[0m\u001b[0;34m(\u001b[0m\u001b[0mfeature_map\u001b[0m\u001b[0;34m,\u001b[0m \u001b[0mtrain_data\u001b[0m\u001b[0;34m,\u001b[0m \u001b[0mtest_data\u001b[0m\u001b[0;34m,\u001b[0m \u001b[0mdata_pts\u001b[0m\u001b[0;34m[\u001b[0m\u001b[0;36m0\u001b[0m\u001b[0;34m:\u001b[0m\u001b[0;34m]\u001b[0m\u001b[0;34m)\u001b[0m\u001b[0;34m\u001b[0m\u001b[0;34m\u001b[0m\u001b[0m\n\u001b[0m",
      "\u001b[0;32m~/anaconda3/envs/python3/lib/python3.6/site-packages/qiskit/aqua/algorithms/classifiers/qsvm/qsvm.py\u001b[0m in \u001b[0;36m__init__\u001b[0;34m(self, feature_map, training_dataset, test_dataset, datapoints, multiclass_extension, lambda2, quantum_instance)\u001b[0m\n\u001b[1;32m    108\u001b[0m             \u001b[0;32mif\u001b[0m \u001b[0mis_multiclass\u001b[0m\u001b[0;34m:\u001b[0m\u001b[0;34m\u001b[0m\u001b[0;34m\u001b[0m\u001b[0m\n\u001b[1;32m    109\u001b[0m                 \u001b[0;32mif\u001b[0m \u001b[0mmulticlass_extension\u001b[0m \u001b[0;32mis\u001b[0m \u001b[0;32mNone\u001b[0m\u001b[0;34m:\u001b[0m\u001b[0;34m\u001b[0m\u001b[0;34m\u001b[0m\u001b[0m\n\u001b[0;32m--> 110\u001b[0;31m                     raise AquaError('Dataset has more than two classes. '\n\u001b[0m\u001b[1;32m    111\u001b[0m                                     'A multiclass extension must be provided.')\n\u001b[1;32m    112\u001b[0m             \u001b[0;32melse\u001b[0m\u001b[0;34m:\u001b[0m\u001b[0;34m\u001b[0m\u001b[0;34m\u001b[0m\u001b[0m\n",
      "\u001b[0;31mAquaError\u001b[0m: 'Dataset has more than two classes. A multiclass extension must be provided.'"
     ]
    }
   ],
   "source": [
    "aqua_globals.random_seed = 10598\n",
    "\n",
    "backend = BasicAer.get_backend('qasm_simulator')\n",
    "feature_map = ZZFeatureMap(feature_dimension=get_feature_dimension(training_input),\n",
    "                           reps=2, entanglement='linear')\n",
    "svm = QSVM(feature_map, training_input, test_input, total_array,\n",
    "           multiclass_extension=AllPairs())\n",
    "quantum_instance = QuantumInstance(backend, shots=1024,\n",
    "                                   seed_simulator=aqua_globals.random_seed,\n",
    "                                   seed_transpiler=aqua_globals.random_seed)\n",
    "\n",
    "result = svm.run(quantum_instance)\n",
    "for k,v in result.items():\n",
    "    print(f'{k} : {v}')"
   ]
  },
  {
   "cell_type": "code",
   "execution_count": 91,
   "id": "bc7394b5",
   "metadata": {
    "scrolled": true
   },
   "outputs": [
    {
     "name": "stdout",
     "output_type": "stream",
     "text": [
      "Collecting pennylane\n",
      "  Downloading PennyLane-0.21.0-py3-none-any.whl (800 kB)\n",
      "     |████████████████████████████████| 800 kB 27.3 MB/s            \n",
      "\u001b[?25hCollecting semantic-version==2.6\n",
      "  Downloading semantic_version-2.6.0-py3-none-any.whl (14 kB)\n",
      "Requirement already satisfied: numpy in /home/ec2-user/anaconda3/envs/python3/lib/python3.6/site-packages (from pennylane) (1.19.5)\n",
      "Collecting cachetools\n",
      "  Downloading cachetools-4.2.4-py3-none-any.whl (10 kB)\n",
      "Collecting pennylane-lightning>=0.21\n",
      "  Downloading PennyLane_Lightning-0.21.0-py3-none-any.whl (110 kB)\n",
      "     |████████████████████████████████| 110 kB 80.6 MB/s            \n",
      "\u001b[?25hRequirement already satisfied: appdirs in /home/ec2-user/anaconda3/envs/python3/lib/python3.6/site-packages (from pennylane) (1.4.4)\n",
      "Requirement already satisfied: scipy in /home/ec2-user/anaconda3/envs/python3/lib/python3.6/site-packages (from pennylane) (1.5.3)\n",
      "Collecting autograd\n",
      "  Downloading autograd-1.3.tar.gz (38 kB)\n",
      "  Preparing metadata (setup.py) ... \u001b[?25ldone\n",
      "\u001b[?25hCollecting autoray\n",
      "  Downloading autoray-0.2.5-py3-none-any.whl (16 kB)\n",
      "Requirement already satisfied: networkx in /home/ec2-user/anaconda3/envs/python3/lib/python3.6/site-packages (from pennylane) (2.5)\n",
      "Requirement already satisfied: toml in /home/ec2-user/anaconda3/envs/python3/lib/python3.6/site-packages (from pennylane) (0.10.2)\n",
      "Requirement already satisfied: retworkx in /home/ec2-user/anaconda3/envs/python3/lib/python3.6/site-packages (from pennylane) (0.11.0)\n",
      "Collecting ninja\n",
      "  Downloading ninja-1.10.2.3-py2.py3-none-manylinux_2_5_x86_64.manylinux1_x86_64.whl (108 kB)\n",
      "     |████████████████████████████████| 108 kB 41.9 MB/s            \n",
      "\u001b[?25hRequirement already satisfied: future>=0.15.2 in /home/ec2-user/anaconda3/envs/python3/lib/python3.6/site-packages (from autograd->pennylane) (0.18.2)\n",
      "Requirement already satisfied: decorator>=4.3.0 in /home/ec2-user/anaconda3/envs/python3/lib/python3.6/site-packages (from networkx->pennylane) (4.4.2)\n",
      "Building wheels for collected packages: autograd\n",
      "  Building wheel for autograd (setup.py) ... \u001b[?25ldone\n",
      "\u001b[?25h  Created wheel for autograd: filename=autograd-1.3-py3-none-any.whl size=47989 sha256=f013de89f3347bf979deb86d8acc15a2778838267030adfe8690b1516827e3a8\n",
      "  Stored in directory: /home/ec2-user/.cache/pip/wheels/b2/a5/3c/929b91003a3b75a175ccba7cef35200a1890cdb46903f18072\n",
      "Successfully built autograd\n",
      "Installing collected packages: ninja, semantic-version, pennylane-lightning, cachetools, autoray, autograd, pennylane\n",
      "Successfully installed autograd-1.3 autoray-0.2.5 cachetools-4.2.4 ninja-1.10.2.3 pennylane-0.21.0 pennylane-lightning-0.21.0 semantic-version-2.6.0\n"
     ]
    }
   ],
   "source": [
    "!pip install pennylane"
   ]
  },
  {
   "cell_type": "code",
   "execution_count": 93,
   "id": "9eaf67ea",
   "metadata": {
    "scrolled": true
   },
   "outputs": [
    {
     "name": "stdout",
     "output_type": "stream",
     "text": [
      "Collecting shape\n",
      "  Downloading shape-1.0.0.zip (733 bytes)\n",
      "  Preparing metadata (setup.py) ... \u001b[?25ldone\n",
      "\u001b[?25hBuilding wheels for collected packages: shape\n",
      "  Building wheel for shape (setup.py) ... \u001b[?25ldone\n",
      "\u001b[?25h  Created wheel for shape: filename=shape-1.0.0-py3-none-any.whl size=1215 sha256=b645ed88a0bf100b16d7b7c1797dcf0fd8ee28639e0f23432f97d9e8ddaff18d\n",
      "  Stored in directory: /home/ec2-user/.cache/pip/wheels/64/75/26/83913480e54d1d6bb8c6ab2832e572d94c513888d5e7c03e2a\n",
      "Successfully built shape\n",
      "Installing collected packages: shape\n",
      "Successfully installed shape-1.0.0\n"
     ]
    }
   ],
   "source": [
    "!pip install shape"
   ]
  },
  {
   "cell_type": "code",
   "execution_count": 94,
   "id": "a30dd0ff",
   "metadata": {},
   "outputs": [
    {
     "ename": "ImportError",
     "evalue": "cannot import name 'shape'",
     "output_type": "error",
     "traceback": [
      "\u001b[0;31m---------------------------------------------------------------------------\u001b[0m",
      "\u001b[0;31mImportError\u001b[0m                               Traceback (most recent call last)",
      "\u001b[0;32m<ipython-input-94-da668ab4a1a1>\u001b[0m in \u001b[0;36m<module>\u001b[0;34m\u001b[0m\n\u001b[1;32m      3\u001b[0m \u001b[0;32mimport\u001b[0m \u001b[0mmatplotlib\u001b[0m\u001b[0;34m.\u001b[0m\u001b[0mpyplot\u001b[0m \u001b[0;32mas\u001b[0m \u001b[0mplt\u001b[0m\u001b[0;34m\u001b[0m\u001b[0;34m\u001b[0m\u001b[0m\n\u001b[1;32m      4\u001b[0m \u001b[0;32mimport\u001b[0m \u001b[0mnumpy\u001b[0m \u001b[0;32mas\u001b[0m \u001b[0mnp\u001b[0m\u001b[0;34m\u001b[0m\u001b[0;34m\u001b[0m\u001b[0m\n\u001b[0;32m----> 5\u001b[0;31m \u001b[0;32mimport\u001b[0m \u001b[0mpennylane\u001b[0m \u001b[0;32mas\u001b[0m \u001b[0mqml\u001b[0m\u001b[0;34m\u001b[0m\u001b[0;34m\u001b[0m\u001b[0m\n\u001b[0m\u001b[1;32m      6\u001b[0m \u001b[0;32mimport\u001b[0m \u001b[0msklearn\u001b[0m\u001b[0;34m.\u001b[0m\u001b[0mdatasets\u001b[0m\u001b[0;34m\u001b[0m\u001b[0;34m\u001b[0m\u001b[0m\n\u001b[1;32m      7\u001b[0m \u001b[0;32mimport\u001b[0m \u001b[0msklearn\u001b[0m\u001b[0;34m.\u001b[0m\u001b[0mdecomposition\u001b[0m\u001b[0;34m\u001b[0m\u001b[0;34m\u001b[0m\u001b[0m\n",
      "\u001b[0;32m~/anaconda3/envs/python3/lib/python3.6/site-packages/pennylane/__init__.py\u001b[0m in \u001b[0;36m<module>\u001b[0;34m\u001b[0m\n\u001b[1;32m     31\u001b[0m \u001b[0;32mimport\u001b[0m \u001b[0mpennylane\u001b[0m\u001b[0;34m.\u001b[0m\u001b[0moperation\u001b[0m\u001b[0;34m\u001b[0m\u001b[0;34m\u001b[0m\u001b[0m\n\u001b[1;32m     32\u001b[0m \u001b[0;32mimport\u001b[0m \u001b[0mpennylane\u001b[0m\u001b[0;34m.\u001b[0m\u001b[0mqnn\u001b[0m\u001b[0;34m\u001b[0m\u001b[0;34m\u001b[0m\u001b[0m\n\u001b[0;32m---> 33\u001b[0;31m \u001b[0;32mimport\u001b[0m \u001b[0mpennylane\u001b[0m\u001b[0;34m.\u001b[0m\u001b[0mtemplates\u001b[0m\u001b[0;34m\u001b[0m\u001b[0;34m\u001b[0m\u001b[0m\n\u001b[0m\u001b[1;32m     34\u001b[0m \u001b[0;32mimport\u001b[0m \u001b[0mpennylane\u001b[0m\u001b[0;34m.\u001b[0m\u001b[0mhf\u001b[0m\u001b[0;34m\u001b[0m\u001b[0;34m\u001b[0m\u001b[0m\n\u001b[1;32m     35\u001b[0m \u001b[0;32mfrom\u001b[0m \u001b[0mpennylane\u001b[0m\u001b[0;34m.\u001b[0m\u001b[0m_device\u001b[0m \u001b[0;32mimport\u001b[0m \u001b[0mDevice\u001b[0m\u001b[0;34m,\u001b[0m \u001b[0mDeviceError\u001b[0m\u001b[0;34m\u001b[0m\u001b[0;34m\u001b[0m\u001b[0m\n",
      "\u001b[0;32m~/anaconda3/envs/python3/lib/python3.6/site-packages/pennylane/templates/__init__.py\u001b[0m in \u001b[0;36m<module>\u001b[0;34m\u001b[0m\n\u001b[1;32m     17\u001b[0m \u001b[0;34m\u001b[0m\u001b[0m\n\u001b[1;32m     18\u001b[0m \u001b[0;32mfrom\u001b[0m \u001b[0;34m.\u001b[0m\u001b[0mbroadcast\u001b[0m \u001b[0;32mimport\u001b[0m \u001b[0;34m*\u001b[0m\u001b[0;34m\u001b[0m\u001b[0;34m\u001b[0m\u001b[0m\n\u001b[0;32m---> 19\u001b[0;31m \u001b[0;32mfrom\u001b[0m \u001b[0;34m.\u001b[0m\u001b[0mlayer\u001b[0m \u001b[0;32mimport\u001b[0m \u001b[0;34m*\u001b[0m\u001b[0;34m\u001b[0m\u001b[0;34m\u001b[0m\u001b[0m\n\u001b[0m\u001b[1;32m     20\u001b[0m \u001b[0;32mfrom\u001b[0m \u001b[0;34m.\u001b[0m\u001b[0mlayers\u001b[0m \u001b[0;32mimport\u001b[0m \u001b[0;34m*\u001b[0m\u001b[0;34m\u001b[0m\u001b[0;34m\u001b[0m\u001b[0m\n\u001b[1;32m     21\u001b[0m \u001b[0;32mfrom\u001b[0m \u001b[0;34m.\u001b[0m\u001b[0membeddings\u001b[0m \u001b[0;32mimport\u001b[0m \u001b[0;34m*\u001b[0m\u001b[0;34m\u001b[0m\u001b[0;34m\u001b[0m\u001b[0m\n",
      "\u001b[0;32m~/anaconda3/envs/python3/lib/python3.6/site-packages/pennylane/templates/layer.py\u001b[0m in \u001b[0;36m<module>\u001b[0;34m\u001b[0m\n\u001b[1;32m     16\u001b[0m \"\"\"\n\u001b[1;32m     17\u001b[0m \u001b[0;31m# pylint: disable-msg=too-many-branches,too-many-arguments,protected-access\u001b[0m\u001b[0;34m\u001b[0m\u001b[0;34m\u001b[0m\u001b[0;34m\u001b[0m\u001b[0m\n\u001b[0;32m---> 18\u001b[0;31m \u001b[0;32mfrom\u001b[0m \u001b[0mpennylane\u001b[0m\u001b[0;34m.\u001b[0m\u001b[0mmath\u001b[0m \u001b[0;32mimport\u001b[0m \u001b[0mshape\u001b[0m\u001b[0;34m\u001b[0m\u001b[0;34m\u001b[0m\u001b[0m\n\u001b[0m\u001b[1;32m     19\u001b[0m \u001b[0;34m\u001b[0m\u001b[0m\n\u001b[1;32m     20\u001b[0m \u001b[0;34m\u001b[0m\u001b[0m\n",
      "\u001b[0;31mImportError\u001b[0m: cannot import name 'shape'"
     ]
    }
   ],
   "source": [
    "from collections import Counter\n",
    "\n",
    "import matplotlib.pyplot as plt\n",
    "import numpy as np\n",
    "import pennylane as qml\n",
    "import sklearn.datasets\n",
    "import sklearn.decomposition\n",
    "import torch\n",
    "from matplotlib.lines import Line2D\n",
    "from matplotlib.patches import Patch"
   ]
  },
  {
   "cell_type": "code",
   "execution_count": 104,
   "id": "641f29a4",
   "metadata": {
    "scrolled": true
   },
   "outputs": [],
   "source": [
    "from qiskit.algorithms.optimizers import L_BFGS_B\n",
    "from qiskit.providers.aer import QasmSimulator\n",
    "X_train = train_data[['0','1','2','3']]\n",
    "X_test = test_data[['0','1','2','3']]\n",
    "y_train = train_data[['4']]\n",
    "y_test = test_data[['4']]\n",
    "\n",
    "vqc = VQC(feature_map=ZZFeatureMap(num_qubits), \n",
    "          ansatz=RealAmplitudes(num_qubits, reps=1), \n",
    "          loss='cross_entropy', \n",
    "          optimizer=L_BFGS_B(),\n",
    "          quantum_instance=QasmSimulator())\n"
   ]
  },
  {
   "cell_type": "code",
   "execution_count": null,
   "id": "0354ba1e",
   "metadata": {},
   "outputs": [],
   "source": [
    "# train classifier\n",
    "vqc.fit(X_train, y_train)\n",
    "# score result\n",
    "vqc.score(X_test, y_test)"
   ]
  }
 ],
 "metadata": {
  "kernelspec": {
   "display_name": "conda_python3",
   "language": "python",
   "name": "conda_python3"
  },
  "language_info": {
   "codemirror_mode": {
    "name": "ipython",
    "version": 3
   },
   "file_extension": ".py",
   "mimetype": "text/x-python",
   "name": "python",
   "nbconvert_exporter": "python",
   "pygments_lexer": "ipython3",
   "version": "3.6.13"
  }
 },
 "nbformat": 4,
 "nbformat_minor": 5
}
